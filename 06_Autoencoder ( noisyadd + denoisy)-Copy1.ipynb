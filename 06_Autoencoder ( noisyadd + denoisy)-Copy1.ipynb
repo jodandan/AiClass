{
 "cells": [
  {
   "cell_type": "code",
   "execution_count": 16,
   "id": "eaed1b29",
   "metadata": {},
   "outputs": [],
   "source": [
    "# 필요한 라이브러리 불러오기\n",
    "import numpy as np\n",
    "import pandas as pd\n",
    "import os, time, re\n",
    "import pickle, gzip\n",
    "\n",
    "# 시각화 관련 라이브러리\n",
    "import matplotlib.pyplot as plt\n",
    "import seaborn as sns\n",
    "color = sns.color_palette()\n",
    "import matplotlib as mpl\n",
    "\n",
    "%matplotlib inline\n",
    "\n",
    "# 데이터 준비 및 모델 평가 관련 라이브러리\n",
    "from sklearn import preprocessing as pp\n",
    "from sklearn.model_selection import train_test_split \n",
    "from sklearn.model_selection import StratifiedKFold \n",
    "from sklearn.metrics import log_loss\n",
    "from sklearn.metrics import precision_recall_curve, average_precision_score\n",
    "from sklearn.metrics import roc_curve, auc, roc_auc_score\n",
    "\n",
    "# 텐서플로 및 케라스 관련 라이브러리\n",
    "import tensorflow as tf\n",
    "import keras\n",
    "from keras import backend as K\n",
    "from keras.models import Sequential, Model\n",
    "from keras.layers import Activation, Dense, Dropout\n",
    "from keras.layers import BatchNormalization, Input, Lambda\n",
    "from keras import regularizers\n",
    "from keras.losses import mse, binary_crossentropy\n",
    "\n",
    "# Define the path to your CSV file\n",
    "file_path = \"C:/Users/wdd45/OneDrive/바탕 화면/딥러닝응용/\\creditcard.csv\"\n",
    "\n",
    "data = pd.read_csv(file_path)\n",
    "\n",
    "data.head()\n",
    "\n",
    "dataX = data.copy().drop(['Class','Time'], axis=1)\n",
    "dataY = data['Class'].copy()"
   ]
  },
  {
   "cell_type": "code",
   "execution_count": 17,
   "id": "e6a1aabd",
   "metadata": {},
   "outputs": [
    {
     "data": {
      "text/plain": [
       "0         0\n",
       "1         0\n",
       "2         0\n",
       "3         0\n",
       "4         0\n",
       "         ..\n",
       "284802    0\n",
       "284803    0\n",
       "284804    0\n",
       "284805    0\n",
       "284806    0\n",
       "Name: Class, Length: 284807, dtype: int64"
      ]
     },
     "execution_count": 17,
     "metadata": {},
     "output_type": "execute_result"
    }
   ],
   "source": [
    "dataX\n",
    "\n",
    "dataY\n"
   ]
  },
  {
   "cell_type": "code",
   "execution_count": 18,
   "id": "691fcceb",
   "metadata": {},
   "outputs": [],
   "source": [
    "# 노이즈 추가\n",
    "noise_factor = 0.2\n",
    "dataX_noisy = dataX + noise_factor * np.random.normal(loc=0, scale=1, size=dataX.shape)\n"
   ]
  },
  {
   "cell_type": "code",
   "execution_count": 19,
   "id": "5fe5d65e",
   "metadata": {},
   "outputs": [],
   "source": [
    "# 데이터 표준화\n",
    "featuresToScale = dataX.columns\n",
    "sX = pp.StandardScaler(copy=True, with_mean=True, with_std=True)\n",
    "dataX_noisy.loc[:,featuresToScale] = sX.fit_transform(dataX_noisy[featuresToScale])\n"
   ]
  },
  {
   "cell_type": "code",
   "execution_count": 20,
   "id": "a0f1d9f2",
   "metadata": {},
   "outputs": [],
   "source": [
    "X_train, X_test, y_train, y_test = train_test_split(dataX_noisy, dataY, test_size=0.33, random_state=2018, stratify=dataY)\n"
   ]
  },
  {
   "cell_type": "code",
   "execution_count": 21,
   "id": "acfe3b39",
   "metadata": {},
   "outputs": [],
   "source": [
    "# 모델 구성 (오토인코더로 노이즈 제거)\n",
    "model = Sequential()\n",
    "model.add(Dense(units=100, activation='linear', input_dim=29))\n",
    "model.add(Dense(units=29, activation='linear'))\n"
   ]
  },
  {
   "cell_type": "code",
   "execution_count": 22,
   "id": "c45fc93d",
   "metadata": {},
   "outputs": [
    {
     "name": "stdout",
     "output_type": "stream",
     "text": [
      "Epoch 1/10\n",
      "WARNING:tensorflow:AutoGraph could not transform <function Model.make_train_function.<locals>.train_function at 0x0000023187DA8EE8> and will run it as-is.\n",
      "Please report this to the TensorFlow team. When filing the bug, set the verbosity to 10 (on Linux, `export AUTOGRAPH_VERBOSITY=10`) and attach the full output.\n",
      "Cause: 'arguments' object has no attribute 'posonlyargs'\n",
      "To silence this warning, decorate the function with @tf.autograph.experimental.do_not_convert\n",
      "WARNING: AutoGraph could not transform <function Model.make_train_function.<locals>.train_function at 0x0000023187DA8EE8> and will run it as-is.\n",
      "Please report this to the TensorFlow team. When filing the bug, set the verbosity to 10 (on Linux, `export AUTOGRAPH_VERBOSITY=10`) and attach the full output.\n",
      "Cause: 'arguments' object has no attribute 'posonlyargs'\n",
      "To silence this warning, decorate the function with @tf.autograph.experimental.do_not_convert\n",
      "5929/5964 [============================>.] - ETA: 0s - loss: 0.0178 - accuracy: 0.9698WARNING:tensorflow:AutoGraph could not transform <function Model.make_test_function.<locals>.test_function at 0x0000023180F4A438> and will run it as-is.\n",
      "Please report this to the TensorFlow team. When filing the bug, set the verbosity to 10 (on Linux, `export AUTOGRAPH_VERBOSITY=10`) and attach the full output.\n",
      "Cause: 'arguments' object has no attribute 'posonlyargs'\n",
      "To silence this warning, decorate the function with @tf.autograph.experimental.do_not_convert\n",
      "WARNING: AutoGraph could not transform <function Model.make_test_function.<locals>.test_function at 0x0000023180F4A438> and will run it as-is.\n",
      "Please report this to the TensorFlow team. When filing the bug, set the verbosity to 10 (on Linux, `export AUTOGRAPH_VERBOSITY=10`) and attach the full output.\n",
      "Cause: 'arguments' object has no attribute 'posonlyargs'\n",
      "To silence this warning, decorate the function with @tf.autograph.experimental.do_not_convert\n",
      "5964/5964 [==============================] - 13s 2ms/step - loss: 0.0177 - accuracy: 0.9699 - val_loss: 0.0019 - val_accuracy: 0.9823\n",
      "Epoch 2/10\n",
      "5964/5964 [==============================] - 12s 2ms/step - loss: 0.0013 - accuracy: 0.9888 - val_loss: 9.7974e-04 - val_accuracy: 0.9853\n",
      "Epoch 3/10\n",
      "5964/5964 [==============================] - 13s 2ms/step - loss: 0.0015 - accuracy: 0.9912 - val_loss: 2.2770e-10 - val_accuracy: 1.0000\n",
      "Epoch 4/10\n",
      "5964/5964 [==============================] - 11s 2ms/step - loss: 0.0016 - accuracy: 0.9886 - val_loss: 1.8000e-04 - val_accuracy: 0.9936\n",
      "Epoch 5/10\n",
      "5964/5964 [==============================] - 11s 2ms/step - loss: 0.0012 - accuracy: 0.9886 - val_loss: 5.7033e-08 - val_accuracy: 0.9999\n",
      "Epoch 6/10\n",
      "5964/5964 [==============================] - 11s 2ms/step - loss: 9.1495e-04 - accuracy: 0.9904 - val_loss: 0.0022 - val_accuracy: 0.9777\n",
      "Epoch 7/10\n",
      "5964/5964 [==============================] - 11s 2ms/step - loss: 0.0013 - accuracy: 0.9896 - val_loss: 2.6344e-06 - val_accuracy: 0.9994\n",
      "Epoch 8/10\n",
      "5964/5964 [==============================] - 11s 2ms/step - loss: 0.0012 - accuracy: 0.9906 - val_loss: 0.0011 - val_accuracy: 0.9811\n",
      "Epoch 9/10\n",
      "5964/5964 [==============================] - 11s 2ms/step - loss: 9.4476e-04 - accuracy: 0.9910 - val_loss: 9.7785e-04 - val_accuracy: 0.9866\n",
      "Epoch 10/10\n",
      "5964/5964 [==============================] - 11s 2ms/step - loss: 0.0012 - accuracy: 0.9904 - val_loss: 1.1112e-04 - val_accuracy: 0.9944\n"
     ]
    }
   ],
   "source": [
    "# 모델 컴파일 및 훈련\n",
    "model.compile(optimizer='adam', loss='mean_squared_error', metrics=['accuracy'])\n",
    "num_epochs = 10\n",
    "batch_size = 32\n",
    "history = model.fit(x=X_train, y=X_train, epochs=num_epochs, batch_size=batch_size, shuffle=True, validation_data=(X_test, X_test), verbose=1)\n"
   ]
  },
  {
   "cell_type": "code",
   "execution_count": 23,
   "id": "21d643ca",
   "metadata": {},
   "outputs": [
    {
     "name": "stdout",
     "output_type": "stream",
     "text": [
      "WARNING:tensorflow:AutoGraph could not transform <function Model.make_predict_function.<locals>.predict_function at 0x0000023180CD4318> and will run it as-is.\n",
      "Please report this to the TensorFlow team. When filing the bug, set the verbosity to 10 (on Linux, `export AUTOGRAPH_VERBOSITY=10`) and attach the full output.\n",
      "Cause: 'arguments' object has no attribute 'posonlyargs'\n",
      "To silence this warning, decorate the function with @tf.autograph.experimental.do_not_convert\n",
      "WARNING: AutoGraph could not transform <function Model.make_predict_function.<locals>.predict_function at 0x0000023180CD4318> and will run it as-is.\n",
      "Please report this to the TensorFlow team. When filing the bug, set the verbosity to 10 (on Linux, `export AUTOGRAPH_VERBOSITY=10`) and attach the full output.\n",
      "Cause: 'arguments' object has no attribute 'posonlyargs'\n",
      "To silence this warning, decorate the function with @tf.autograph.experimental.do_not_convert\n",
      "8901/8901 [==============================] - 10s 1ms/step\n"
     ]
    }
   ],
   "source": [
    "# 노이즈 제거된 데이터\n",
    "denoised_data = model.predict(dataX_noisy)\n"
   ]
  },
  {
   "cell_type": "code",
   "execution_count": 24,
   "id": "ce84d870",
   "metadata": {},
   "outputs": [],
   "source": [
    "# 이상 감지 함수 정의\n",
    "def anomalyScores(originalDF, reducedDF):\n",
    "    loss = np.sum((np.array(originalDF) - np.array(reducedDF))**2, axis=1)\n",
    "    loss = pd.Series(data=loss, index=originalDF.index)\n",
    "    loss = (loss - np.min(loss)) / (np.max(loss) - np.min(loss))\n",
    "    return loss"
   ]
  },
  {
   "cell_type": "code",
   "execution_count": 25,
   "id": "467d5ba3",
   "metadata": {},
   "outputs": [
    {
     "name": "stdout",
     "output_type": "stream",
     "text": [
      "2938/2938 [==============================] - 3s 1ms/step\n"
     ]
    }
   ],
   "source": [
    "# 테스트 데이터에 대한 예측 및 평가\n",
    "predictions = model.predict(X_test, verbose=1)\n",
    "anomalyScoresAE = anomalyScores(X_test, predictions)\n"
   ]
  },
  {
   "cell_type": "code",
   "execution_count": 26,
   "id": "0adc2b92",
   "metadata": {},
   "outputs": [],
   "source": [
    "def plotResults(trueLabels, anomalyScores, returnPreds=False):\n",
    "    preds = pd.concat([trueLabels, anomalyScores], axis=1)\n",
    "    preds.columns = ['trueLabel', 'anomalyScore']\n",
    "    precision, recall, thresholds = precision_recall_curve(preds['trueLabel'], preds['anomalyScore'])\n",
    "    average_precision = average_precision_score(preds['trueLabel'], preds['anomalyScore'])\n",
    "\n",
    "    plt.figure(figsize=(12, 6))\n",
    "    plt.subplot(1, 2, 1)\n",
    "    plt.plot(recall, precision, 'b', label='Precision-Recall curve')\n",
    "    plt.fill_between(recall, precision, alpha=0.2, color='b')\n",
    "    plt.xlabel('Recall')\n",
    "    plt.ylabel('Precision')\n",
    "    plt.title('2-class Precision-Recall curve: AP={0:0.2f}'.format(average_precision))\n",
    "    \n",
    "    fpr, tpr, thresholds = roc_curve(preds['trueLabel'], preds['anomalyScore'])\n",
    "    roc_auc = auc(fpr, tpr)\n",
    "\n",
    "    plt.subplot(1, 2, 2)\n",
    "    plt.plot(fpr, tpr, 'b', label='AUC = %0.2f' % roc_auc)\n",
    "    plt.fill_between(fpr, tpr, alpha=0.2, color='b')\n",
    "    plt.xlabel('False Positive Rate')\n",
    "    plt.ylabel('True Positive Rate')\n",
    "    plt.title('Receiver Operating Characteristic')\n",
    "    plt.legend(loc='lower right')\n",
    "    \n",
    "    plt.show()\n",
    "    \n",
    "    if returnPreds == True:\n",
    "        return preds, average_precision"
   ]
  },
  {
   "cell_type": "code",
   "execution_count": 27,
   "id": "c02260f7",
   "metadata": {},
   "outputs": [
    {
     "data": {
      "image/png": "[encoded data removed]",
      "text/plain": [
       "<Figure size 1200x600 with 2 Axes>"
      ]
     },
     "metadata": {},
     "output_type": "display_data"
    }
   ],
   "source": [
    "preds = plotResults(y_test, anomalyScoresAE, True)\n",
    "model.reset_states()"
   ]
  },
  {
   "cell_type": "code",
   "execution_count": null,
   "id": "181d4445",
   "metadata": {},
   "outputs": [],
   "source": []
  },
  {
   "cell_type": "code",
   "execution_count": null,
   "id": "0794f5a8",
   "metadata": {},
   "outputs": [],
   "source": []
  },
  {
   "cell_type": "code",
   "execution_count": null,
   "id": "31d67a4c",
   "metadata": {},
   "outputs": [],
   "source": []
  },
  {
   "cell_type": "code",
   "execution_count": null,
   "id": "ad8b813b",
   "metadata": {},
   "outputs": [],
   "source": []
  },
  {
   "cell_type": "code",
   "execution_count": null,
   "id": "89569cdb",
   "metadata": {},
   "outputs": [],
   "source": []
  },
  {
   "cell_type": "code",
   "execution_count": null,
   "id": "589963f9",
   "metadata": {},
   "outputs": [],
   "source": []
  },
  {
   "cell_type": "code",
   "execution_count": null,
   "id": "4603a467",
   "metadata": {},
   "outputs": [],
   "source": []
  },
  {
   "cell_type": "code",
   "execution_count": null,
   "id": "a3c56935",
   "metadata": {},
   "outputs": [],
   "source": []
  }
 ],
 "metadata": {
  "kernelspec": {
   "display_name": "Python 3 (ipykernel)",
   "language": "python",
   "name": "python3"
  },
  "language_info": {
   "codemirror_mode": {
    "name": "ipython",
    "version": 3
   },
   "file_extension": ".py",
   "mimetype": "text/x-python",
   "name": "python",
   "nbconvert_exporter": "python",
   "pygments_lexer": "ipython3",
   "version": "3.7.16"
  }
 },
 "nbformat": 4,
 "nbformat_minor": 5
}
