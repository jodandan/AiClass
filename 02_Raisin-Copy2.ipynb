{
 "cells": [
  {
   "cell_type": "code",
   "execution_count": 6,
   "id": "06159297",
   "metadata": {},
   "outputs": [
    {
     "name": "stdout",
     "output_type": "stream",
     "text": [
      "      Area  MajorAxisLength  MinorAxisLength  Eccentricity  ConvexArea  \\\n",
      "0    87524       442.246011       253.291155      0.819738       90546   \n",
      "1    75166       406.690687       243.032436      0.801805       78789   \n",
      "2    90856       442.267048       266.328318      0.798354       93717   \n",
      "3    45928       286.540559       208.760042      0.684989       47336   \n",
      "4    79408       352.190770       290.827533      0.564011       81463   \n",
      "..     ...              ...              ...           ...         ...   \n",
      "895  83248       430.077308       247.838695      0.817263       85839   \n",
      "896  87350       440.735698       259.293149      0.808629       90899   \n",
      "897  99657       431.706981       298.837323      0.721684      106264   \n",
      "898  93523       476.344094       254.176054      0.845739       97653   \n",
      "899  85609       512.081774       215.271976      0.907345       89197   \n",
      "\n",
      "       Extent  Perimeter    Class  \n",
      "0    0.758651   1184.040  Kecimen  \n",
      "1    0.684130   1121.786  Kecimen  \n",
      "2    0.637613   1208.575  Kecimen  \n",
      "3    0.699599    844.162  Kecimen  \n",
      "4    0.792772   1073.251  Kecimen  \n",
      "..        ...        ...      ...  \n",
      "895  0.668793   1129.072    Besni  \n",
      "896  0.636476   1214.252    Besni  \n",
      "897  0.741099   1292.828    Besni  \n",
      "898  0.658798   1258.548    Besni  \n",
      "899  0.632020   1272.862    Besni  \n",
      "\n",
      "[900 rows x 8 columns]\n"
     ]
    },
    {
     "data": {
      "text/html": [
       "<div>\n",
       "<style scoped>\n",
       "    .dataframe tbody tr th:only-of-type {\n",
       "        vertical-align: middle;\n",
       "    }\n",
       "\n",
       "    .dataframe tbody tr th {\n",
       "        vertical-align: top;\n",
       "    }\n",
       "\n",
       "    .dataframe thead th {\n",
       "        text-align: right;\n",
       "    }\n",
       "</style>\n",
       "<table border=\"1\" class=\"dataframe\">\n",
       "  <thead>\n",
       "    <tr style=\"text-align: right;\">\n",
       "      <th></th>\n",
       "      <th>Area</th>\n",
       "      <th>MajorAxisLength</th>\n",
       "      <th>MinorAxisLength</th>\n",
       "      <th>Eccentricity</th>\n",
       "      <th>ConvexArea</th>\n",
       "      <th>Extent</th>\n",
       "      <th>Perimeter</th>\n",
       "      <th>Class</th>\n",
       "    </tr>\n",
       "  </thead>\n",
       "  <tbody>\n",
       "    <tr>\n",
       "      <th>0</th>\n",
       "      <td>87524</td>\n",
       "      <td>442.246011</td>\n",
       "      <td>253.291155</td>\n",
       "      <td>0.819738</td>\n",
       "      <td>90546</td>\n",
       "      <td>0.758651</td>\n",
       "      <td>1184.040</td>\n",
       "      <td>Kecimen</td>\n",
       "    </tr>\n",
       "    <tr>\n",
       "      <th>1</th>\n",
       "      <td>75166</td>\n",
       "      <td>406.690687</td>\n",
       "      <td>243.032436</td>\n",
       "      <td>0.801805</td>\n",
       "      <td>78789</td>\n",
       "      <td>0.684130</td>\n",
       "      <td>1121.786</td>\n",
       "      <td>Kecimen</td>\n",
       "    </tr>\n",
       "    <tr>\n",
       "      <th>2</th>\n",
       "      <td>90856</td>\n",
       "      <td>442.267048</td>\n",
       "      <td>266.328318</td>\n",
       "      <td>0.798354</td>\n",
       "      <td>93717</td>\n",
       "      <td>0.637613</td>\n",
       "      <td>1208.575</td>\n",
       "      <td>Kecimen</td>\n",
       "    </tr>\n",
       "    <tr>\n",
       "      <th>3</th>\n",
       "      <td>45928</td>\n",
       "      <td>286.540559</td>\n",
       "      <td>208.760042</td>\n",
       "      <td>0.684989</td>\n",
       "      <td>47336</td>\n",
       "      <td>0.699599</td>\n",
       "      <td>844.162</td>\n",
       "      <td>Kecimen</td>\n",
       "    </tr>\n",
       "    <tr>\n",
       "      <th>4</th>\n",
       "      <td>79408</td>\n",
       "      <td>352.190770</td>\n",
       "      <td>290.827533</td>\n",
       "      <td>0.564011</td>\n",
       "      <td>81463</td>\n",
       "      <td>0.792772</td>\n",
       "      <td>1073.251</td>\n",
       "      <td>Kecimen</td>\n",
       "    </tr>\n",
       "  </tbody>\n",
       "</table>\n",
       "</div>"
      ],
      "text/plain": [
       "    Area  MajorAxisLength  MinorAxisLength  Eccentricity  ConvexArea  \\\n",
       "0  87524       442.246011       253.291155      0.819738       90546   \n",
       "1  75166       406.690687       243.032436      0.801805       78789   \n",
       "2  90856       442.267048       266.328318      0.798354       93717   \n",
       "3  45928       286.540559       208.760042      0.684989       47336   \n",
       "4  79408       352.190770       290.827533      0.564011       81463   \n",
       "\n",
       "     Extent  Perimeter    Class  \n",
       "0  0.758651   1184.040  Kecimen  \n",
       "1  0.684130   1121.786  Kecimen  \n",
       "2  0.637613   1208.575  Kecimen  \n",
       "3  0.699599    844.162  Kecimen  \n",
       "4  0.792772   1073.251  Kecimen  "
      ]
     },
     "execution_count": 6,
     "metadata": {},
     "output_type": "execute_result"
    }
   ],
   "source": [
    "import pandas as pd\n",
    "import numpy as np\n",
    "import pandas as pd\n",
    "import seaborn as sns\n",
    "import matplotlib.pyplot as plt\n",
    "import warnings\n",
    "\n",
    "import pathlib\n",
    "import tensorflow as tf\n",
    "from tensorflow import keras\n",
    "from tensorflow.keras import layers\n",
    "file_path = 'C:\\\\Users\\\\wdd45\\\\OneDrive\\\\바탕 화면\\\\Raisin_Dataset\\\\Raisin_Dataset.xlsx'\n",
    "\n",
    "data= pd.read_excel(file_path)\n",
    "print(data)\n",
    "\n",
    "data.head()"
   ]
  },
  {
   "cell_type": "code",
   "execution_count": 7,
   "id": "c18ab36a",
   "metadata": {},
   "outputs": [
    {
     "data": {
      "text/plain": [
       "pandas.core.frame.DataFrame"
      ]
     },
     "execution_count": 7,
     "metadata": {},
     "output_type": "execute_result"
    }
   ],
   "source": [
    "type(data)"
   ]
  },
  {
   "cell_type": "code",
   "execution_count": 8,
   "id": "6e8cb747",
   "metadata": {},
   "outputs": [
    {
     "data": {
      "text/plain": [
       "Area               0\n",
       "MajorAxisLength    0\n",
       "MinorAxisLength    0\n",
       "Eccentricity       0\n",
       "ConvexArea         0\n",
       "Extent             0\n",
       "Perimeter          0\n",
       "Class              0\n",
       "dtype: int64"
      ]
     },
     "execution_count": 8,
     "metadata": {},
     "output_type": "execute_result"
    }
   ],
   "source": [
    "data.isnull().sum()"
   ]
  },
  {
   "cell_type": "code",
   "execution_count": 9,
   "id": "6cf660d0",
   "metadata": {},
   "outputs": [
    {
     "data": {
      "text/plain": [
       "Index(['Area', 'MajorAxisLength', 'MinorAxisLength', 'Eccentricity',\n",
       "       'ConvexArea', 'Extent', 'Perimeter', 'Class'],\n",
       "      dtype='object')"
      ]
     },
     "execution_count": 9,
     "metadata": {},
     "output_type": "execute_result"
    }
   ],
   "source": [
    "data.columns"
   ]
  },
  {
   "cell_type": "code",
   "execution_count": 10,
   "id": "13a55ef7",
   "metadata": {},
   "outputs": [
    {
     "data": {
      "text/plain": [
       "Text(0.5, 1.0, 'Label')"
      ]
     },
     "execution_count": 10,
     "metadata": {},
     "output_type": "execute_result"
    },
    {
     "data": {
      "image/png": "[encoded data removed]",
      "text/plain": [
       "<Figure size 640x480 with 1 Axes>"
      ]
     },
     "metadata": {},
     "output_type": "display_data"
    }
   ],
   "source": [
    "sns.countplot(data = data, x=\"Class\")\n",
    "plt.xlabel(\"diabetes or no\")\n",
    "plt.ylabel(\"Count\")\n",
    "plt.title(\"Label\")"
   ]
  },
  {
   "cell_type": "code",
   "execution_count": 11,
   "id": "6e84243c",
   "metadata": {},
   "outputs": [
    {
     "data": {
      "image/png": "[encoded data removed]",
      "text/plain": [
       "<Figure size 1000x1000 with 1 Axes>"
      ]
     },
     "metadata": {},
     "output_type": "display_data"
    }
   ],
   "source": [
    "df_corr = data.corr()\n",
    "\n",
    "plt.figure(figsize=(10, 10))\n",
    "sns.set(font_scale=0.8)\n",
    "sns.heatmap(df_corr, annot=True, cbar=False)\n",
    "plt.show()"
   ]
  },
  {
   "cell_type": "code",
   "execution_count": 12,
   "id": "54db6ba8",
   "metadata": {},
   "outputs": [],
   "source": [
    "from sklearn.preprocessing import LabelEncoder\n",
    "\n",
    "le=LabelEncoder()\n",
    "\n",
    "for i in data.columns:\n",
    "\n",
    "    data[i]=le.fit_transform(data[i])"
   ]
  },
  {
   "cell_type": "code",
   "execution_count": 23,
   "id": "e953bdc4",
   "metadata": {},
   "outputs": [],
   "source": [
    "#Splitting the data into training and test test\n",
    "X = data.iloc[:,0:7].values\n",
    "y = data.iloc[:,7].values\n",
    "\n",
    "from sklearn.preprocessing import LabelEncoder\n",
    "encoder =  LabelEncoder()\n",
    "y1 = encoder.fit_transform(y)\n",
    "\n",
    "Y = pd.get_dummies(y).values\n",
    "\n",
    "\n",
    "from sklearn.model_selection import train_test_split\n",
    "X_train,X_test, y_train,y_test = train_test_split(X,Y,test_size=0.2,random_state=0) "
   ]
  },
  {
   "cell_type": "code",
   "execution_count": 24,
   "id": "5c2a9e80",
   "metadata": {},
   "outputs": [
    {
     "data": {
      "text/plain": [
       "array([[551, 553, 500, ..., 542, 811, 544],\n",
       "       [404, 446, 409, ..., 413, 299, 453],\n",
       "       [583, 554, 581, ..., 571, 102, 573],\n",
       "       ...,\n",
       "       [640, 517, 739, ..., 650, 722, 656],\n",
       "       [600, 633, 506, ..., 600, 177, 622],\n",
       "       [529, 706, 200, ..., 532,  82, 643]], dtype=int64)"
      ]
     },
     "execution_count": 24,
     "metadata": {},
     "output_type": "execute_result"
    }
   ],
   "source": [
    "X"
   ]
  },
  {
   "cell_type": "code",
   "execution_count": 25,
   "id": "b5be4bc4",
   "metadata": {},
   "outputs": [
    {
     "data": {
      "text/plain": [
       "array([[0, 1],\n",
       "       [0, 1],\n",
       "       [0, 1],\n",
       "       ...,\n",
       "       [1, 0],\n",
       "       [1, 0],\n",
       "       [1, 0]], dtype=uint8)"
      ]
     },
     "execution_count": 25,
     "metadata": {},
     "output_type": "execute_result"
    }
   ],
   "source": [
    "Y"
   ]
  },
  {
   "cell_type": "code",
   "execution_count": 50,
   "id": "9892ea12",
   "metadata": {},
   "outputs": [
    {
     "name": "stdout",
     "output_type": "stream",
     "text": [
      "Model: \"sequential_13\"\n",
      "_________________________________________________________________\n",
      " Layer (type)                Output Shape              Param #   \n",
      "=================================================================\n",
      " dense_52 (Dense)            (None, 7)                 56        \n",
      "                                                                 \n",
      " dense_53 (Dense)            (None, 7)                 56        \n",
      "                                                                 \n",
      " dense_54 (Dense)            (None, 7)                 56        \n",
      "                                                                 \n",
      " dense_55 (Dense)            (None, 2)                 16        \n",
      "                                                                 \n",
      "=================================================================\n",
      "Total params: 184\n",
      "Trainable params: 184\n",
      "Non-trainable params: 0\n",
      "_________________________________________________________________\n"
     ]
    }
   ],
   "source": [
    "from keras.models import Sequential\n",
    "from keras.layers import Dense\n",
    "from keras.optimizers import SGD,Adam\n",
    "\n",
    "\n",
    "model = Sequential()\n",
    "\n",
    "model.add(Dense(7,input_shape=(7,),activation='relu'))\n",
    "model.add(Dense(7,activation='relu'))\n",
    "model.add(Dense(7,activation='relu'))\n",
    "model.add(Dense(2,activation='sigmoid'))\n",
    "\n",
    "model.compile(Adam(lr=0.02),'binary_crossentropy',metrics=['accuracy'])\n",
    "\n",
    "model.summary()"
   ]
  },
  {
   "cell_type": "code",
   "execution_count": 51,
   "id": "1b4e5535",
   "metadata": {},
   "outputs": [
    {
     "name": "stdout",
     "output_type": "stream",
     "text": [
      "Epoch 1/100\n",
      "WARNING:tensorflow:AutoGraph could not transform <function Model.make_train_function.<locals>.train_function at 0x000002163DFA2D38> and will run it as-is.\n",
      "Please report this to the TensorFlow team. When filing the bug, set the verbosity to 10 (on Linux, `export AUTOGRAPH_VERBOSITY=10`) and attach the full output.\n",
      "Cause: 'arguments' object has no attribute 'posonlyargs'\n",
      "To silence this warning, decorate the function with @tf.autograph.experimental.do_not_convert\n",
      "WARNING: AutoGraph could not transform <function Model.make_train_function.<locals>.train_function at 0x000002163DFA2D38> and will run it as-is.\n",
      "Please report this to the TensorFlow team. When filing the bug, set the verbosity to 10 (on Linux, `export AUTOGRAPH_VERBOSITY=10`) and attach the full output.\n",
      "Cause: 'arguments' object has no attribute 'posonlyargs'\n",
      "To silence this warning, decorate the function with @tf.autograph.experimental.do_not_convert\n",
      " 1/23 [>.............................] - ETA: 9s - loss: 49.5645 - accuracy: 0.7188WARNING:tensorflow:AutoGraph could not transform <function Model.make_test_function.<locals>.test_function at 0x000002163F027D38> and will run it as-is.\n",
      "Please report this to the TensorFlow team. When filing the bug, set the verbosity to 10 (on Linux, `export AUTOGRAPH_VERBOSITY=10`) and attach the full output.\n",
      "Cause: 'arguments' object has no attribute 'posonlyargs'\n",
      "To silence this warning, decorate the function with @tf.autograph.experimental.do_not_convert\n",
      "WARNING: AutoGraph could not transform <function Model.make_test_function.<locals>.test_function at 0x000002163F027D38> and will run it as-is.\n",
      "Please report this to the TensorFlow team. When filing the bug, set the verbosity to 10 (on Linux, `export AUTOGRAPH_VERBOSITY=10`) and attach the full output.\n",
      "Cause: 'arguments' object has no attribute 'posonlyargs'\n",
      "To silence this warning, decorate the function with @tf.autograph.experimental.do_not_convert\n",
      "23/23 [==============================] - 1s 9ms/step - loss: 7.5599 - accuracy: 0.5931 - val_loss: 0.8386 - val_accuracy: 0.5556\n",
      "Epoch 2/100\n",
      "23/23 [==============================] - 0s 3ms/step - loss: 0.7732 - accuracy: 0.4833 - val_loss: 0.7019 - val_accuracy: 0.5111\n",
      "Epoch 3/100\n",
      "23/23 [==============================] - 0s 3ms/step - loss: 0.7134 - accuracy: 0.4931 - val_loss: 0.6995 - val_accuracy: 0.5000\n",
      "Epoch 4/100\n",
      "23/23 [==============================] - 0s 3ms/step - loss: 0.7405 - accuracy: 0.4986 - val_loss: 0.7364 - val_accuracy: 0.4667\n",
      "Epoch 5/100\n",
      "23/23 [==============================] - 0s 3ms/step - loss: 0.6985 - accuracy: 0.5125 - val_loss: 0.6818 - val_accuracy: 0.5944\n",
      "Epoch 6/100\n",
      "23/23 [==============================] - 0s 3ms/step - loss: 0.6426 - accuracy: 0.6528 - val_loss: 0.6037 - val_accuracy: 0.7500\n",
      "Epoch 7/100\n",
      "23/23 [==============================] - 0s 3ms/step - loss: 0.5718 - accuracy: 0.7708 - val_loss: 0.5566 - val_accuracy: 0.7944\n",
      "Epoch 8/100\n",
      "23/23 [==============================] - 0s 3ms/step - loss: 0.5439 - accuracy: 0.7736 - val_loss: 0.5284 - val_accuracy: 0.7944\n",
      "Epoch 9/100\n",
      "23/23 [==============================] - 0s 3ms/step - loss: 0.5256 - accuracy: 0.7625 - val_loss: 0.5356 - val_accuracy: 0.7889\n",
      "Epoch 10/100\n",
      "23/23 [==============================] - 0s 3ms/step - loss: 0.5223 - accuracy: 0.7681 - val_loss: 0.5059 - val_accuracy: 0.8111\n",
      "Epoch 11/100\n",
      "23/23 [==============================] - 0s 3ms/step - loss: 0.5158 - accuracy: 0.7722 - val_loss: 0.4898 - val_accuracy: 0.8111\n",
      "Epoch 12/100\n",
      "23/23 [==============================] - 0s 3ms/step - loss: 0.5080 - accuracy: 0.7792 - val_loss: 0.4934 - val_accuracy: 0.8111\n",
      "Epoch 13/100\n",
      "23/23 [==============================] - 0s 3ms/step - loss: 0.4972 - accuracy: 0.7861 - val_loss: 0.4795 - val_accuracy: 0.8222\n",
      "Epoch 14/100\n",
      "23/23 [==============================] - 0s 3ms/step - loss: 0.4886 - accuracy: 0.7986 - val_loss: 0.4637 - val_accuracy: 0.8222\n",
      "Epoch 15/100\n",
      "23/23 [==============================] - 0s 4ms/step - loss: 0.4812 - accuracy: 0.8069 - val_loss: 0.4584 - val_accuracy: 0.8222\n",
      "Epoch 16/100\n",
      "23/23 [==============================] - 0s 3ms/step - loss: 0.4796 - accuracy: 0.8083 - val_loss: 0.4490 - val_accuracy: 0.8222\n",
      "Epoch 17/100\n",
      "23/23 [==============================] - 0s 3ms/step - loss: 0.4891 - accuracy: 0.7889 - val_loss: 0.4534 - val_accuracy: 0.8167\n",
      "Epoch 18/100\n",
      "23/23 [==============================] - 0s 3ms/step - loss: 0.4636 - accuracy: 0.8167 - val_loss: 0.4788 - val_accuracy: 0.7944\n",
      "Epoch 19/100\n",
      "23/23 [==============================] - 0s 3ms/step - loss: 0.4629 - accuracy: 0.8153 - val_loss: 0.4242 - val_accuracy: 0.8444\n",
      "Epoch 20/100\n",
      "23/23 [==============================] - 0s 3ms/step - loss: 0.4445 - accuracy: 0.8292 - val_loss: 0.4025 - val_accuracy: 0.8389\n",
      "Epoch 21/100\n",
      "23/23 [==============================] - 0s 3ms/step - loss: 0.4348 - accuracy: 0.8181 - val_loss: 0.3971 - val_accuracy: 0.8611\n",
      "Epoch 22/100\n",
      "23/23 [==============================] - 0s 3ms/step - loss: 0.4322 - accuracy: 0.8236 - val_loss: 0.3713 - val_accuracy: 0.8500\n",
      "Epoch 23/100\n",
      "23/23 [==============================] - 0s 3ms/step - loss: 0.4322 - accuracy: 0.8278 - val_loss: 0.3772 - val_accuracy: 0.8556\n",
      "Epoch 24/100\n",
      "23/23 [==============================] - 0s 3ms/step - loss: 0.4302 - accuracy: 0.8319 - val_loss: 0.4073 - val_accuracy: 0.8278\n",
      "Epoch 25/100\n",
      "23/23 [==============================] - 0s 3ms/step - loss: 0.4465 - accuracy: 0.8208 - val_loss: 0.3587 - val_accuracy: 0.8722\n",
      "Epoch 26/100\n",
      "23/23 [==============================] - 0s 3ms/step - loss: 0.4512 - accuracy: 0.8014 - val_loss: 0.3728 - val_accuracy: 0.8722\n",
      "Epoch 27/100\n",
      "23/23 [==============================] - 0s 3ms/step - loss: 0.4175 - accuracy: 0.8333 - val_loss: 0.4120 - val_accuracy: 0.8278\n",
      "Epoch 28/100\n",
      "23/23 [==============================] - 0s 3ms/step - loss: 0.4557 - accuracy: 0.8097 - val_loss: 0.4225 - val_accuracy: 0.8278\n",
      "Epoch 29/100\n",
      "23/23 [==============================] - 0s 3ms/step - loss: 0.4383 - accuracy: 0.8153 - val_loss: 0.3852 - val_accuracy: 0.8500\n",
      "Epoch 30/100\n",
      "23/23 [==============================] - 0s 3ms/step - loss: 0.4290 - accuracy: 0.8264 - val_loss: 0.3661 - val_accuracy: 0.8722\n",
      "Epoch 31/100\n",
      "23/23 [==============================] - 0s 3ms/step - loss: 0.4209 - accuracy: 0.8431 - val_loss: 0.3772 - val_accuracy: 0.8667\n",
      "Epoch 32/100\n",
      "23/23 [==============================] - 0s 3ms/step - loss: 0.4654 - accuracy: 0.7875 - val_loss: 0.3763 - val_accuracy: 0.8500\n",
      "Epoch 33/100\n",
      "23/23 [==============================] - 0s 3ms/step - loss: 0.4598 - accuracy: 0.7944 - val_loss: 0.3678 - val_accuracy: 0.8611\n",
      "Epoch 34/100\n",
      "23/23 [==============================] - 0s 3ms/step - loss: 0.4355 - accuracy: 0.8250 - val_loss: 0.4218 - val_accuracy: 0.8222\n",
      "Epoch 35/100\n",
      "23/23 [==============================] - 0s 3ms/step - loss: 0.4574 - accuracy: 0.8000 - val_loss: 0.3799 - val_accuracy: 0.8556\n",
      "Epoch 36/100\n",
      "23/23 [==============================] - 0s 3ms/step - loss: 0.4899 - accuracy: 0.7889 - val_loss: 0.4230 - val_accuracy: 0.8444\n",
      "Epoch 37/100\n",
      "23/23 [==============================] - 0s 3ms/step - loss: 0.4432 - accuracy: 0.8236 - val_loss: 0.4306 - val_accuracy: 0.8333\n",
      "Epoch 38/100\n",
      "23/23 [==============================] - 0s 3ms/step - loss: 0.5322 - accuracy: 0.7639 - val_loss: 0.4809 - val_accuracy: 0.8056\n",
      "Epoch 39/100\n",
      "23/23 [==============================] - 0s 3ms/step - loss: 0.4613 - accuracy: 0.8153 - val_loss: 0.4394 - val_accuracy: 0.8389\n",
      "Epoch 40/100\n",
      "23/23 [==============================] - 0s 3ms/step - loss: 0.4899 - accuracy: 0.7931 - val_loss: 0.4054 - val_accuracy: 0.8556\n",
      "Epoch 41/100\n",
      "23/23 [==============================] - 0s 3ms/step - loss: 0.4578 - accuracy: 0.8111 - val_loss: 0.4043 - val_accuracy: 0.8500\n",
      "Epoch 42/100\n",
      "23/23 [==============================] - 0s 3ms/step - loss: 0.4289 - accuracy: 0.8250 - val_loss: 0.3760 - val_accuracy: 0.8667\n",
      "Epoch 43/100\n",
      "23/23 [==============================] - 0s 3ms/step - loss: 0.4885 - accuracy: 0.7931 - val_loss: 0.4291 - val_accuracy: 0.8278\n",
      "Epoch 44/100\n",
      "23/23 [==============================] - 0s 3ms/step - loss: 0.4515 - accuracy: 0.8222 - val_loss: 0.4180 - val_accuracy: 0.8167\n",
      "Epoch 45/100\n",
      "23/23 [==============================] - 0s 3ms/step - loss: 0.4210 - accuracy: 0.8347 - val_loss: 0.3660 - val_accuracy: 0.8611\n",
      "Epoch 46/100\n",
      "23/23 [==============================] - 0s 3ms/step - loss: 0.3999 - accuracy: 0.8417 - val_loss: 0.4047 - val_accuracy: 0.8333\n",
      "Epoch 47/100\n",
      "23/23 [==============================] - 0s 3ms/step - loss: 0.4475 - accuracy: 0.8097 - val_loss: 0.4111 - val_accuracy: 0.8389\n",
      "Epoch 48/100\n",
      "23/23 [==============================] - 0s 3ms/step - loss: 0.4459 - accuracy: 0.8222 - val_loss: 0.4637 - val_accuracy: 0.8167\n",
      "Epoch 49/100\n",
      "23/23 [==============================] - 0s 3ms/step - loss: 0.4961 - accuracy: 0.8042 - val_loss: 0.4308 - val_accuracy: 0.8611\n",
      "Epoch 50/100\n",
      "23/23 [==============================] - 0s 3ms/step - loss: 0.4374 - accuracy: 0.8389 - val_loss: 0.3687 - val_accuracy: 0.8500\n",
      "Epoch 51/100\n",
      "23/23 [==============================] - 0s 3ms/step - loss: 0.4386 - accuracy: 0.8028 - val_loss: 0.4844 - val_accuracy: 0.8167\n",
      "Epoch 52/100\n",
      "23/23 [==============================] - 0s 3ms/step - loss: 0.6047 - accuracy: 0.7306 - val_loss: 0.4918 - val_accuracy: 0.8111\n",
      "Epoch 53/100\n",
      "23/23 [==============================] - 0s 3ms/step - loss: 0.5189 - accuracy: 0.7917 - val_loss: 0.4622 - val_accuracy: 0.8333\n",
      "Epoch 54/100\n",
      "23/23 [==============================] - 0s 3ms/step - loss: 0.4747 - accuracy: 0.8264 - val_loss: 0.4341 - val_accuracy: 0.8389\n",
      "Epoch 55/100\n",
      "23/23 [==============================] - 0s 3ms/step - loss: 0.4420 - accuracy: 0.8292 - val_loss: 0.4391 - val_accuracy: 0.7778\n",
      "Epoch 56/100\n",
      "23/23 [==============================] - 0s 3ms/step - loss: 0.5203 - accuracy: 0.7972 - val_loss: 0.4402 - val_accuracy: 0.8667\n",
      "Epoch 57/100\n",
      "23/23 [==============================] - 0s 3ms/step - loss: 0.4441 - accuracy: 0.8306 - val_loss: 0.4500 - val_accuracy: 0.7944\n",
      "Epoch 58/100\n",
      "23/23 [==============================] - 0s 3ms/step - loss: 0.4478 - accuracy: 0.8125 - val_loss: 0.3762 - val_accuracy: 0.8611\n",
      "Epoch 59/100\n",
      "23/23 [==============================] - 0s 3ms/step - loss: 0.4243 - accuracy: 0.8319 - val_loss: 0.4107 - val_accuracy: 0.8444\n",
      "Epoch 60/100\n",
      "23/23 [==============================] - 0s 3ms/step - loss: 0.4064 - accuracy: 0.8556 - val_loss: 0.3856 - val_accuracy: 0.8333\n",
      "Epoch 61/100\n",
      "23/23 [==============================] - 0s 3ms/step - loss: 0.4294 - accuracy: 0.8139 - val_loss: 0.3612 - val_accuracy: 0.8722\n",
      "Epoch 62/100\n",
      "23/23 [==============================] - 0s 3ms/step - loss: 0.4510 - accuracy: 0.8319 - val_loss: 0.3765 - val_accuracy: 0.8722\n",
      "Epoch 63/100\n",
      "23/23 [==============================] - 0s 3ms/step - loss: 0.4269 - accuracy: 0.8333 - val_loss: 0.3663 - val_accuracy: 0.8722\n",
      "Epoch 64/100\n",
      "23/23 [==============================] - 0s 3ms/step - loss: 0.4778 - accuracy: 0.7833 - val_loss: 0.4119 - val_accuracy: 0.8500\n",
      "Epoch 65/100\n",
      "23/23 [==============================] - 0s 3ms/step - loss: 0.4585 - accuracy: 0.8111 - val_loss: 0.4327 - val_accuracy: 0.8333\n",
      "Epoch 66/100\n",
      "23/23 [==============================] - 0s 3ms/step - loss: 0.4543 - accuracy: 0.8236 - val_loss: 0.3642 - val_accuracy: 0.8722\n",
      "Epoch 67/100\n",
      "23/23 [==============================] - 0s 3ms/step - loss: 0.4256 - accuracy: 0.8319 - val_loss: 0.3856 - val_accuracy: 0.8611\n",
      "Epoch 68/100\n",
      "23/23 [==============================] - 0s 3ms/step - loss: 0.4414 - accuracy: 0.8208 - val_loss: 0.3529 - val_accuracy: 0.8722\n",
      "Epoch 69/100\n",
      "23/23 [==============================] - 0s 3ms/step - loss: 0.4222 - accuracy: 0.8472 - val_loss: 0.3888 - val_accuracy: 0.8611\n",
      "Epoch 70/100\n",
      "23/23 [==============================] - 0s 3ms/step - loss: 0.4548 - accuracy: 0.8333 - val_loss: 0.4101 - val_accuracy: 0.8667\n",
      "Epoch 71/100\n",
      "23/23 [==============================] - 0s 3ms/step - loss: 0.5079 - accuracy: 0.7847 - val_loss: 0.4613 - val_accuracy: 0.8167\n",
      "Epoch 72/100\n",
      "23/23 [==============================] - 0s 3ms/step - loss: 0.5245 - accuracy: 0.7639 - val_loss: 0.4660 - val_accuracy: 0.8222\n",
      "Epoch 73/100\n",
      "23/23 [==============================] - 0s 3ms/step - loss: 0.4593 - accuracy: 0.8375 - val_loss: 0.3774 - val_accuracy: 0.8722\n",
      "Epoch 74/100\n",
      "23/23 [==============================] - 0s 3ms/step - loss: 0.4224 - accuracy: 0.8333 - val_loss: 0.5128 - val_accuracy: 0.7056\n",
      "Epoch 75/100\n",
      "23/23 [==============================] - 0s 3ms/step - loss: 0.4388 - accuracy: 0.8222 - val_loss: 0.3811 - val_accuracy: 0.8667\n",
      "Epoch 76/100\n",
      "23/23 [==============================] - 0s 3ms/step - loss: 0.4174 - accuracy: 0.8417 - val_loss: 0.3864 - val_accuracy: 0.8611\n",
      "Epoch 77/100\n",
      "23/23 [==============================] - 0s 3ms/step - loss: 0.4378 - accuracy: 0.8347 - val_loss: 0.4567 - val_accuracy: 0.8111\n",
      "Epoch 78/100\n",
      "23/23 [==============================] - 0s 4ms/step - loss: 0.4606 - accuracy: 0.8222 - val_loss: 0.4036 - val_accuracy: 0.8500\n",
      "Epoch 79/100\n",
      "23/23 [==============================] - 0s 4ms/step - loss: 0.4191 - accuracy: 0.8306 - val_loss: 0.3706 - val_accuracy: 0.8500\n",
      "Epoch 80/100\n",
      "23/23 [==============================] - 0s 4ms/step - loss: 0.4068 - accuracy: 0.8444 - val_loss: 0.3832 - val_accuracy: 0.8611\n",
      "Epoch 81/100\n",
      "23/23 [==============================] - 0s 3ms/step - loss: 0.4264 - accuracy: 0.8403 - val_loss: 0.4925 - val_accuracy: 0.7833\n",
      "Epoch 82/100\n",
      "23/23 [==============================] - 0s 3ms/step - loss: 0.4724 - accuracy: 0.7819 - val_loss: 0.4897 - val_accuracy: 0.8167\n",
      "Epoch 83/100\n",
      "23/23 [==============================] - 0s 3ms/step - loss: 0.4870 - accuracy: 0.8097 - val_loss: 0.4499 - val_accuracy: 0.8278\n",
      "Epoch 84/100\n",
      "23/23 [==============================] - 0s 3ms/step - loss: 0.5550 - accuracy: 0.7181 - val_loss: 0.4884 - val_accuracy: 0.7667\n",
      "Epoch 85/100\n",
      "23/23 [==============================] - 0s 3ms/step - loss: 0.4384 - accuracy: 0.8028 - val_loss: 0.3538 - val_accuracy: 0.8611\n",
      "Epoch 86/100\n",
      "23/23 [==============================] - 0s 3ms/step - loss: 0.4207 - accuracy: 0.8389 - val_loss: 0.3673 - val_accuracy: 0.8667\n",
      "Epoch 87/100\n",
      "23/23 [==============================] - 0s 3ms/step - loss: 0.4065 - accuracy: 0.8458 - val_loss: 0.3716 - val_accuracy: 0.8667\n",
      "Epoch 88/100\n",
      "23/23 [==============================] - 0s 3ms/step - loss: 0.3919 - accuracy: 0.8486 - val_loss: 0.3463 - val_accuracy: 0.8667\n",
      "Epoch 89/100\n",
      "23/23 [==============================] - 0s 3ms/step - loss: 0.4073 - accuracy: 0.8542 - val_loss: 0.3821 - val_accuracy: 0.8667\n",
      "Epoch 90/100\n",
      "23/23 [==============================] - 0s 3ms/step - loss: 0.4225 - accuracy: 0.8347 - val_loss: 0.4764 - val_accuracy: 0.7611\n",
      "Epoch 91/100\n",
      "23/23 [==============================] - 0s 3ms/step - loss: 0.4581 - accuracy: 0.8222 - val_loss: 0.4323 - val_accuracy: 0.8389\n",
      "Epoch 92/100\n",
      "23/23 [==============================] - 0s 3ms/step - loss: 0.4366 - accuracy: 0.8361 - val_loss: 0.4130 - val_accuracy: 0.8333\n",
      "Epoch 93/100\n",
      "23/23 [==============================] - 0s 3ms/step - loss: 0.5761 - accuracy: 0.7347 - val_loss: 0.4294 - val_accuracy: 0.8444\n",
      "Epoch 94/100\n",
      "23/23 [==============================] - 0s 3ms/step - loss: 0.4563 - accuracy: 0.8236 - val_loss: 0.4312 - val_accuracy: 0.8389\n",
      "Epoch 95/100\n",
      "23/23 [==============================] - 0s 3ms/step - loss: 0.4824 - accuracy: 0.8042 - val_loss: 0.4306 - val_accuracy: 0.8556\n",
      "Epoch 96/100\n",
      "23/23 [==============================] - 0s 3ms/step - loss: 0.4205 - accuracy: 0.8500 - val_loss: 0.3631 - val_accuracy: 0.8611\n",
      "Epoch 97/100\n",
      "23/23 [==============================] - 0s 3ms/step - loss: 0.4446 - accuracy: 0.8264 - val_loss: 0.4345 - val_accuracy: 0.8333\n",
      "Epoch 98/100\n",
      "23/23 [==============================] - 0s 3ms/step - loss: 0.4736 - accuracy: 0.8125 - val_loss: 0.4445 - val_accuracy: 0.8333\n",
      "Epoch 99/100\n",
      "23/23 [==============================] - 0s 3ms/step - loss: 0.4793 - accuracy: 0.8056 - val_loss: 0.4360 - val_accuracy: 0.8333\n",
      "Epoch 100/100\n",
      "23/23 [==============================] - 0s 3ms/step - loss: 0.4450 - accuracy: 0.8361 - val_loss: 0.3695 - val_accuracy: 0.8778\n",
      "WARNING:tensorflow:AutoGraph could not transform <function Model.make_predict_function.<locals>.predict_function at 0x000002163F0E7F78> and will run it as-is.\n",
      "Please report this to the TensorFlow team. When filing the bug, set the verbosity to 10 (on Linux, `export AUTOGRAPH_VERBOSITY=10`) and attach the full output.\n",
      "Cause: 'arguments' object has no attribute 'posonlyargs'\n",
      "To silence this warning, decorate the function with @tf.autograph.experimental.do_not_convert\n"
     ]
    },
    {
     "name": "stdout",
     "output_type": "stream",
     "text": [
      "WARNING: AutoGraph could not transform <function Model.make_predict_function.<locals>.predict_function at 0x000002163F0E7F78> and will run it as-is.\n",
      "Please report this to the TensorFlow team. When filing the bug, set the verbosity to 10 (on Linux, `export AUTOGRAPH_VERBOSITY=10`) and attach the full output.\n",
      "Cause: 'arguments' object has no attribute 'posonlyargs'\n",
      "To silence this warning, decorate the function with @tf.autograph.experimental.do_not_convert\n",
      "6/6 [==============================] - 0s 1ms/step\n"
     ]
    }
   ],
   "source": [
    "model_history=model.fit(x=X_train, y=y_train, epochs=100, batch_size=32,validation_data= (X_test,y_test))\n",
    "y_pred = model.predict(X_test)\n",
    "\n",
    "y_test_class = np.argmax(y_test,axis=1)\n",
    "y_pred_class = np.argmax(y_pred,axis=1)"
   ]
  },
  {
   "cell_type": "code",
   "execution_count": 37,
   "id": "5f22251d",
   "metadata": {},
   "outputs": [
    {
     "data": {
      "image/png": "[encoded data removed]",
      "text/plain": [
       "<Figure size 640x480 with 1 Axes>"
      ]
     },
     "metadata": {},
     "output_type": "display_data"
    }
   ],
   "source": [
    "import matplotlib.pyplot as plt\n",
    "import seaborn as sns\n",
    "\n",
    "loss =model_history.history['loss']\n",
    "val_loss =model_history.history['val_loss']\n",
    "epochs = range(1, len(loss) + 1)\n",
    "plt.plot(epochs, loss, 'y', label='Training loss')\n",
    "plt.plot(epochs, val_loss, 'r', label='Validation loss')\n",
    "plt.title('Training and validation loss')\n",
    "plt.xlabel('Epochs')\n",
    "plt.ylabel('Loss')\n",
    "plt.legend()\n",
    "plt.show()"
   ]
  },
  {
   "cell_type": "code",
   "execution_count": 52,
   "id": "789d54bc",
   "metadata": {},
   "outputs": [
    {
     "name": "stdout",
     "output_type": "stream",
     "text": [
      "              precision    recall  f1-score   support\n",
      "\n",
      "           0       0.88      0.90      0.89        97\n",
      "           1       0.88      0.86      0.87        83\n",
      "\n",
      "    accuracy                           0.88       180\n",
      "   macro avg       0.88      0.88      0.88       180\n",
      "weighted avg       0.88      0.88      0.88       180\n",
      "\n",
      "[[87 10]\n",
      " [12 71]]\n"
     ]
    }
   ],
   "source": [
    "#Accuracy of the predicted values\n",
    "from sklearn.metrics import classification_report,confusion_matrix\n",
    "print(classification_report(y_test_class,y_pred_class))\n",
    "print(confusion_matrix(y_test_class,y_pred_class))"
   ]
  },
  {
   "cell_type": "code",
   "execution_count": null,
   "id": "60c1754d",
   "metadata": {},
   "outputs": [],
   "source": []
  },
  {
   "cell_type": "code",
   "execution_count": null,
   "id": "bfce1f0b",
   "metadata": {},
   "outputs": [],
   "source": []
  }
 ],
 "metadata": {
  "kernelspec": {
   "display_name": "Python 3 (ipykernel)",
   "language": "python",
   "name": "python3"
  },
  "language_info": {
   "codemirror_mode": {
    "name": "ipython",
    "version": 3
   },
   "file_extension": ".py",
   "mimetype": "text/x-python",
   "name": "python",
   "nbconvert_exporter": "python",
   "pygments_lexer": "ipython3",
   "version": "3.7.16"
  }
 },
 "nbformat": 4,
 "nbformat_minor": 5
}
