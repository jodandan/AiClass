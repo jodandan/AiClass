{
 "cells": [
  {
   "cell_type": "code",
   "execution_count": 105,
   "id": "5b377e9f",
   "metadata": {},
   "outputs": [],
   "source": [
    "import numpy as np\n",
    "import pandas as pd\n",
    "from numpy import mean\n",
    "from numpy import std\n",
    "from numpy import dstack\n",
    "from pandas import read_csv\n",
    "from keras.models import Sequential\n",
    "from keras.layers import Dense\n",
    "from keras.layers import Flatten\n",
    "from keras.layers import Dropout\n",
    "from keras.layers import LSTM\n",
    "from keras.layers.convolutional import Conv1D\n",
    "from keras.layers.convolutional import MaxPooling1D\n",
    "from tensorflow.keras.utils import to_categorical\n",
    "from matplotlib import pyplot\n",
    "import matplotlib.pyplot as plt\n",
    "from keras.utils.vis_utils import plot_model\n",
    "import keras\n",
    "import zipfile\n",
    "from sklearn.metrics import confusion_matrix, classification_report\n",
    "import seaborn as sns\n",
    "import tensorflow as tf\n",
    "from tensorflow import keras\n",
    "from sklearn.model_selection import train_test_split\n",
    "# set seed to reproduce similar results\n",
    "np.random.seed(0)"
   ]
  },
  {
   "cell_type": "code",
   "execution_count": 106,
   "id": "4312e781",
   "metadata": {},
   "outputs": [],
   "source": [
    "# 데이터 디렉토리 설정\n",
    "data_dir = \"C:/Users/wdd45/OneDrive/바탕 화면/딥러닝응용/human/UCI HAR Dataset/UCI HAR Dataset\"\n"
   ]
  },
  {
   "cell_type": "code",
   "execution_count": 107,
   "id": "9b9037c0",
   "metadata": {},
   "outputs": [],
   "source": [
    "# 데이터 로딩 및 전처리\n",
    "def load_HAR_data(data_dir):\n",
    "    # 훈련 데이터 로딩\n",
    "    train_signals, train_labels, test_signals, test_labels = [], [], [], []\n",
    "    \n",
    "    for signal_type in [\"train\", \"test\"]:\n",
    "        for signal in [\"Inertial Signals/total_acc_x_\", \"Inertial Signals/body_acc_x_\", \"Inertial Signals/body_gyro_x_\"]:\n",
    "            filename = f\"{data_dir}/{signal_type}/{signal}{signal_type}.txt\"\n",
    "            data = pd.read_csv(filename, delim_whitespace=True, header=None).values\n",
    "            if \"train\" in signal_type:\n",
    "                train_signals.append(data)\n",
    "            else:\n",
    "                test_signals.append(data)\n",
    "\n",
    "        # 레이블 로딩\n",
    "        labels_filename = f\"{data_dir}/{signal_type}/y_{signal_type}.txt\"\n",
    "        labels = pd.read_csv(labels_filename, header=None, names=[\"Activity\"]).values\n",
    "        if \"train\" in signal_type:\n",
    "            train_labels.append(labels)\n",
    "        else:\n",
    "            test_labels.append(labels)\n",
    "\n",
    "    # 데이터를 NumPy 배열로 변환\n",
    "    train_signals = np.transpose(np.array(train_signals), (1, 2, 0))\n",
    "    train_labels = train_labels[0]\n",
    "    test_signals = np.transpose(np.array(test_signals), (1, 2, 0))\n",
    "    test_labels = test_labels[0]\n",
    "\n",
    "    return train_signals, train_labels, test_signals, test_labels"
   ]
  },
  {
   "cell_type": "code",
   "execution_count": 119,
   "id": "d5c3532c",
   "metadata": {},
   "outputs": [],
   "source": [
    "# 데이터 로딩\n",
    "train_signals, train_labels, test_signals, test_labels = load_HAR_data(data_dir)\n",
    "\n",
    "# 레이블 수정 (0부터 시작하도록)\n",
    "train_labels = train_labels - 1\n",
    "test_labels = test_labels - 1"
   ]
  },
  {
   "cell_type": "code",
   "execution_count": 120,
   "id": "10f2c587",
   "metadata": {},
   "outputs": [],
   "source": [
    "# 데이터 정규화\n",
    "train_signals = (train_signals - np.mean(train_signals)) / np.std(train_signals)\n",
    "test_signals = (test_signals - np.mean(test_signals)) / np.std(test_signals)"
   ]
  },
  {
   "cell_type": "code",
   "execution_count": 121,
   "id": "ee5c3028",
   "metadata": {},
   "outputs": [],
   "source": [
    "# 데이터를 훈련 및 검증 세트로 분할\n",
    "X_train, X_val, y_train, y_val = train_test_split(train_signals, train_labels, test_size=0.2, random_state=42)"
   ]
  },
  {
   "cell_type": "code",
   "execution_count": null,
   "id": "75dea2e9",
   "metadata": {},
   "outputs": [],
   "source": []
  },
  {
   "cell_type": "code",
   "execution_count": 122,
   "id": "6b17e32f",
   "metadata": {},
   "outputs": [],
   "source": [
    "# 모델 아키텍처 정의\n",
    "model = keras.Sequential([\n",
    "    keras.layers.Conv1D(filters=64, kernel_size=3, activation='relu', input_shape=(X_train.shape[1], X_train.shape[2])),\n",
    "    keras.layers.MaxPooling1D(pool_size=2),\n",
    "    keras.layers.Flatten(),\n",
    "    keras.layers.Dense(128, activation='relu'),\n",
    "    keras.layers.Dense(6, activation='softmax')  # 클래스 수에 따라 조정\n",
    "])"
   ]
  },
  {
   "cell_type": "code",
   "execution_count": 123,
   "id": "9f94d9fa",
   "metadata": {},
   "outputs": [],
   "source": [
    "# 모델 컴파일\n",
    "model.compile(optimizer='adam', loss='sparse_categorical_crossentropy', metrics=['accuracy'])\n"
   ]
  },
  {
   "cell_type": "code",
   "execution_count": 124,
   "id": "159db34e",
   "metadata": {},
   "outputs": [
    {
     "name": "stdout",
     "output_type": "stream",
     "text": [
      "Model: \"sequential_10\"\n",
      "_________________________________________________________________\n",
      " Layer (type)                Output Shape              Param #   \n",
      "=================================================================\n",
      " conv1d_8 (Conv1D)           (None, 126, 64)           640       \n",
      "                                                                 \n",
      " max_pooling1d_8 (MaxPooling  (None, 63, 64)           0         \n",
      " 1D)                                                             \n",
      "                                                                 \n",
      " flatten_8 (Flatten)         (None, 4032)              0         \n",
      "                                                                 \n",
      " dense_16 (Dense)            (None, 128)               516224    \n",
      "                                                                 \n",
      " dense_17 (Dense)            (None, 6)                 774       \n",
      "                                                                 \n",
      "=================================================================\n",
      "Total params: 517,638\n",
      "Trainable params: 517,638\n",
      "Non-trainable params: 0\n",
      "_________________________________________________________________\n"
     ]
    }
   ],
   "source": [
    "# 모델 요약\n",
    "model.summary()"
   ]
  },
  {
   "cell_type": "code",
   "execution_count": 125,
   "id": "01a1d3d3",
   "metadata": {},
   "outputs": [
    {
     "name": "stdout",
     "output_type": "stream",
     "text": [
      "Epoch 1/10\n",
      "WARNING:tensorflow:AutoGraph could not transform <function Model.make_train_function.<locals>.train_function at 0x000002108635F828> and will run it as-is.\n",
      "Please report this to the TensorFlow team. When filing the bug, set the verbosity to 10 (on Linux, `export AUTOGRAPH_VERBOSITY=10`) and attach the full output.\n",
      "Cause: 'arguments' object has no attribute 'posonlyargs'\n",
      "To silence this warning, decorate the function with @tf.autograph.experimental.do_not_convert\n",
      "WARNING: AutoGraph could not transform <function Model.make_train_function.<locals>.train_function at 0x000002108635F828> and will run it as-is.\n",
      "Please report this to the TensorFlow team. When filing the bug, set the verbosity to 10 (on Linux, `export AUTOGRAPH_VERBOSITY=10`) and attach the full output.\n",
      "Cause: 'arguments' object has no attribute 'posonlyargs'\n",
      "To silence this warning, decorate the function with @tf.autograph.experimental.do_not_convert\n",
      "184/184 [==============================] - ETA: 0s - loss: 0.5924 - accuracy: 0.7211WARNING:tensorflow:AutoGraph could not transform <function Model.make_test_function.<locals>.test_function at 0x0000021085AE6828> and will run it as-is.\n",
      "Please report this to the TensorFlow team. When filing the bug, set the verbosity to 10 (on Linux, `export AUTOGRAPH_VERBOSITY=10`) and attach the full output.\n",
      "Cause: 'arguments' object has no attribute 'posonlyargs'\n",
      "To silence this warning, decorate the function with @tf.autograph.experimental.do_not_convert\n",
      "WARNING: AutoGraph could not transform <function Model.make_test_function.<locals>.test_function at 0x0000021085AE6828> and will run it as-is.\n",
      "Please report this to the TensorFlow team. When filing the bug, set the verbosity to 10 (on Linux, `export AUTOGRAPH_VERBOSITY=10`) and attach the full output.\n",
      "Cause: 'arguments' object has no attribute 'posonlyargs'\n",
      "To silence this warning, decorate the function with @tf.autograph.experimental.do_not_convert\n",
      "184/184 [==============================] - 3s 13ms/step - loss: 0.5924 - accuracy: 0.7211 - val_loss: 0.3873 - val_accuracy: 0.8192\n",
      "Epoch 2/10\n",
      "184/184 [==============================] - 2s 13ms/step - loss: 0.3524 - accuracy: 0.8260 - val_loss: 0.3339 - val_accuracy: 0.8321\n",
      "Epoch 3/10\n",
      "184/184 [==============================] - 2s 13ms/step - loss: 0.2967 - accuracy: 0.8437 - val_loss: 0.3204 - val_accuracy: 0.8280\n",
      "Epoch 4/10\n",
      "184/184 [==============================] - 2s 13ms/step - loss: 0.2731 - accuracy: 0.8551 - val_loss: 0.3204 - val_accuracy: 0.8402\n",
      "Epoch 5/10\n",
      "184/184 [==============================] - 2s 12ms/step - loss: 0.2490 - accuracy: 0.8670 - val_loss: 0.2995 - val_accuracy: 0.8423\n",
      "Epoch 6/10\n",
      "184/184 [==============================] - 2s 12ms/step - loss: 0.2378 - accuracy: 0.8706 - val_loss: 0.3783 - val_accuracy: 0.8117\n",
      "Epoch 7/10\n",
      "184/184 [==============================] - 2s 12ms/step - loss: 0.2246 - accuracy: 0.8774 - val_loss: 0.3132 - val_accuracy: 0.8436\n",
      "Epoch 8/10\n",
      "184/184 [==============================] - 2s 13ms/step - loss: 0.2153 - accuracy: 0.8766 - val_loss: 0.3379 - val_accuracy: 0.8341\n",
      "Epoch 9/10\n",
      "184/184 [==============================] - 2s 13ms/step - loss: 0.2130 - accuracy: 0.8808 - val_loss: 0.2850 - val_accuracy: 0.8464\n",
      "Epoch 10/10\n",
      "184/184 [==============================] - 2s 13ms/step - loss: 0.2047 - accuracy: 0.8869 - val_loss: 0.2826 - val_accuracy: 0.8613\n"
     ]
    }
   ],
   "source": [
    "# 모델 훈련\n",
    "history = model.fit(X_train, y_train, epochs=10, batch_size=32, validation_data=(X_val, y_val))"
   ]
  },
  {
   "cell_type": "code",
   "execution_count": 126,
   "id": "b7ce8103",
   "metadata": {},
   "outputs": [
    {
     "name": "stdout",
     "output_type": "stream",
     "text": [
      "93/93 [==============================] - 0s 2ms/step - loss: 0.3656 - accuracy: 0.8558\n",
      "Test accuracy: 85.58%\n"
     ]
    }
   ],
   "source": [
    "# 모델 평가\n",
    "test_loss, test_accuracy = model.evaluate(test_signals, test_labels)\n",
    "print(f\"Test accuracy: {test_accuracy * 100:.2f}%\")"
   ]
  },
  {
   "cell_type": "code",
   "execution_count": null,
   "id": "cf7fddf3",
   "metadata": {},
   "outputs": [],
   "source": []
  }
 ],
 "metadata": {
  "kernelspec": {
   "display_name": "Python 3 (ipykernel)",
   "language": "python",
   "name": "python3"
  },
  "language_info": {
   "codemirror_mode": {
    "name": "ipython",
    "version": 3
   },
   "file_extension": ".py",
   "mimetype": "text/x-python",
   "name": "python",
   "nbconvert_exporter": "python",
   "pygments_lexer": "ipython3",
   "version": "3.7.16"
  }
 },
 "nbformat": 4,
 "nbformat_minor": 5
}
