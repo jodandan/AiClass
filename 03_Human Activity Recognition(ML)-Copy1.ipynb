{
 "cells": [
  {
   "cell_type": "code",
   "execution_count": 1,
   "id": "60160158",
   "metadata": {},
   "outputs": [],
   "source": [
    "import numpy as np\n",
    "import pandas as pd\n",
    "from sklearn.ensemble import RandomForestClassifier\n",
    "from sklearn.linear_model import LogisticRegression\n",
    "from sklearn.tree import DecisionTreeClassifier\n",
    "from sklearn.svm import SVC\n",
    "from sklearn.model_selection import train_test_split\n",
    "from sklearn.metrics import accuracy_score\n",
    "\n",
    "# 데이터 로딩 및 전처리\n",
    "data_dir = \"C:/Users/wdd45/OneDrive/바탕 화면/딥러닝응용/human/UCI HAR Dataset/UCI HAR Dataset\""
   ]
  },
  {
   "cell_type": "code",
   "execution_count": 2,
   "id": "5f4d85a5",
   "metadata": {},
   "outputs": [],
   "source": [
    "def load_HAR_data(data_dir):\n",
    "    train_signals, train_labels, test_signals, test_labels = [], [], [], []\n",
    "    \n",
    "    for signal_type in [\"train\", \"test\"]:\n",
    "        for signal in [\"Inertial Signals/total_acc_x_\", \"Inertial Signals/body_acc_x_\", \"Inertial Signals/body_gyro_x_\"]:\n",
    "            filename = f\"{data_dir}/{signal_type}/{signal}{signal_type}.txt\"\n",
    "            data = pd.read_csv(filename, delim_whitespace=True, header=None).values\n",
    "            if \"train\" in signal_type:\n",
    "                train_signals.append(data)\n",
    "            else:\n",
    "                test_signals.append(data)\n",
    "\n",
    "        labels_filename = f\"{data_dir}/{signal_type}/y_{signal_type}.txt\"\n",
    "        labels = pd.read_csv(labels_filename, header=None, names=[\"Activity\"]).values\n",
    "        if \"train\" in signal_type:\n",
    "            train_labels.append(labels)\n",
    "        else:\n",
    "            test_labels.append(labels)\n",
    "\n",
    "    train_signals = np.transpose(np.array(train_signals), (1, 2, 0))\n",
    "    train_labels = train_labels[0]\n",
    "    test_signals = np.transpose(np.array(test_signals), (1, 2, 0))\n",
    "    test_labels = test_labels[0]\n",
    "\n",
    "    train_labels = train_labels - 1\n",
    "    test_labels = test_labels - 1\n",
    "\n",
    "    train_signals = (train_signals - np.mean(train_signals)) / np.std(train_signals)\n",
    "    test_signals = (test_signals - np.mean(test_signals)) / np.std(test_signals)\n",
    "\n",
    "    return train_signals, train_labels, test_signals, test_labels\n",
    "\n",
    "train_signals, train_labels, test_signals, test_labels = load_HAR_data(data_dir)"
   ]
  },
  {
   "cell_type": "code",
   "execution_count": 8,
   "id": "2ccd51b5",
   "metadata": {},
   "outputs": [],
   "source": [
    "# 데이터를 훈련 및 검증 세트로 분할\n",
    "X_train, X_val, y_train, y_val = train_test_split(train_signals, train_labels, test_size=0.2, random_state=42)\n"
   ]
  },
  {
   "cell_type": "code",
   "execution_count": 9,
   "id": "62bb34a4",
   "metadata": {},
   "outputs": [],
   "source": [
    "# 3D 배열을 2D 배열로 변환\n",
    "X_train_2d = X_train.reshape(X_train.shape[0], -1)\n",
    "test_signals_2d = test_signals.reshape(test_signals.shape[0], -1)"
   ]
  },
  {
   "cell_type": "code",
   "execution_count": 11,
   "id": "0978b83b",
   "metadata": {
    "scrolled": true
   },
   "outputs": [
    {
     "name": "stderr",
     "output_type": "stream",
     "text": [
      "C:\\Users\\wdd45\\anaconda3\\envs\\py37\\lib\\site-packages\\ipykernel_launcher.py:3: DataConversionWarning: A column-vector y was passed when a 1d array was expected. Please change the shape of y to (n_samples,), for example using ravel().\n",
      "  This is separate from the ipykernel package so we can avoid doing imports until\n"
     ]
    },
    {
     "name": "stdout",
     "output_type": "stream",
     "text": [
      "Random Forest Test accuracy: 85.61%\n"
     ]
    }
   ],
   "source": [
    "# 랜덤 포레스트 모델\n",
    "rf_model = RandomForestClassifier(n_estimators=100, random_state=42)\n",
    "rf_model.fit(X_train_2d, y_train)\n",
    "y_pred_rf = rf_model.predict(test_signals_2d)\n",
    "test_accuracy_rf = accuracy_score(test_labels, y_pred_rf)\n",
    "print(f\"Random Forest Test accuracy: {test_accuracy_rf * 100:.2f}%\")"
   ]
  },
  {
   "cell_type": "code",
   "execution_count": 12,
   "id": "4b98942e",
   "metadata": {},
   "outputs": [
    {
     "name": "stderr",
     "output_type": "stream",
     "text": [
      "C:\\Users\\wdd45\\anaconda3\\envs\\py37\\lib\\site-packages\\sklearn\\utils\\validation.py:993: DataConversionWarning: A column-vector y was passed when a 1d array was expected. Please change the shape of y to (n_samples, ), for example using ravel().\n",
      "  y = column_or_1d(y, warn=True)\n"
     ]
    },
    {
     "name": "stdout",
     "output_type": "stream",
     "text": [
      "Logistic Regression Test accuracy: 51.03%\n"
     ]
    },
    {
     "name": "stderr",
     "output_type": "stream",
     "text": [
      "C:\\Users\\wdd45\\anaconda3\\envs\\py37\\lib\\site-packages\\sklearn\\linear_model\\_logistic.py:818: ConvergenceWarning: lbfgs failed to converge (status=1):\n",
      "STOP: TOTAL NO. of ITERATIONS REACHED LIMIT.\n",
      "\n",
      "Increase the number of iterations (max_iter) or scale the data as shown in:\n",
      "    https://scikit-learn.org/stable/modules/preprocessing.html\n",
      "Please also refer to the documentation for alternative solver options:\n",
      "    https://scikit-learn.org/stable/modules/linear_model.html#logistic-regression\n",
      "  extra_warning_msg=_LOGISTIC_SOLVER_CONVERGENCE_MSG,\n"
     ]
    }
   ],
   "source": [
    "# 로지스틱 회귀 모델\n",
    "lr_model = LogisticRegression(max_iter=1000, random_state=42)\n",
    "lr_model.fit(X_train.reshape(X_train.shape[0], -1), y_train)\n",
    "y_pred_lr = lr_model.predict(test_signals.reshape(test_signals.shape[0], -1))\n",
    "test_accuracy_lr = accuracy_score(test_labels, y_pred_lr)\n",
    "print(f\"Logistic Regression Test accuracy: {test_accuracy_lr * 100:.2f}%\")"
   ]
  },
  {
   "cell_type": "code",
   "execution_count": 13,
   "id": "480db201",
   "metadata": {},
   "outputs": [
    {
     "name": "stdout",
     "output_type": "stream",
     "text": [
      "Decision Tree Test accuracy: 69.53%\n"
     ]
    }
   ],
   "source": [
    "# 의사결정 트리 모델\n",
    "dt_model = DecisionTreeClassifier(random_state=42)\n",
    "dt_model.fit(X_train.reshape(X_train.shape[0], -1), y_train)\n",
    "y_pred_dt = dt_model.predict(test_signals.reshape(test_signals.shape[0], -1))\n",
    "test_accuracy_dt = accuracy_score(test_labels, y_pred_dt)\n",
    "print(f\"Decision Tree Test accuracy: {test_accuracy_dt * 100:.2f}%\")"
   ]
  },
  {
   "cell_type": "code",
   "execution_count": 14,
   "id": "22553b17",
   "metadata": {},
   "outputs": [
    {
     "name": "stderr",
     "output_type": "stream",
     "text": [
      "C:\\Users\\wdd45\\anaconda3\\envs\\py37\\lib\\site-packages\\sklearn\\utils\\validation.py:993: DataConversionWarning: A column-vector y was passed when a 1d array was expected. Please change the shape of y to (n_samples, ), for example using ravel().\n",
      "  y = column_or_1d(y, warn=True)\n"
     ]
    },
    {
     "name": "stdout",
     "output_type": "stream",
     "text": [
      "SVM Test accuracy: 79.64%\n"
     ]
    }
   ],
   "source": [
    "# 서포트 벡터 머신 모델\n",
    "svm_model = SVC(random_state=42)\n",
    "svm_model.fit(X_train.reshape(X_train.shape[0], -1), y_train)\n",
    "y_pred_svm = svm_model.predict(test_signals.reshape(test_signals.shape[0], -1))\n",
    "test_accuracy_svm = accuracy_score(test_labels, y_pred_svm)\n",
    "print(f\"SVM Test accuracy: {test_accuracy_svm * 100:.2f}%\")"
   ]
  },
  {
   "cell_type": "code",
   "execution_count": null,
   "id": "a17b5ed1",
   "metadata": {},
   "outputs": [],
   "source": []
  }
 ],
 "metadata": {
  "kernelspec": {
   "display_name": "Python 3 (ipykernel)",
   "language": "python",
   "name": "python3"
  },
  "language_info": {
   "codemirror_mode": {
    "name": "ipython",
    "version": 3
   },
   "file_extension": ".py",
   "mimetype": "text/x-python",
   "name": "python",
   "nbconvert_exporter": "python",
   "pygments_lexer": "ipython3",
   "version": "3.7.16"
  }
 },
 "nbformat": 4,
 "nbformat_minor": 5
}
