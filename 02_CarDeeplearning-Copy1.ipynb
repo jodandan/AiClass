{
 "cells": [
  {
   "cell_type": "code",
   "execution_count": 5,
   "id": "24175fb6",
   "metadata": {},
   "outputs": [
    {
     "data": {
      "text/html": [
       "<div>\n",
       "<style scoped>\n",
       "    .dataframe tbody tr th:only-of-type {\n",
       "        vertical-align: middle;\n",
       "    }\n",
       "\n",
       "    .dataframe tbody tr th {\n",
       "        vertical-align: top;\n",
       "    }\n",
       "\n",
       "    .dataframe thead th {\n",
       "        text-align: right;\n",
       "    }\n",
       "</style>\n",
       "<table border=\"1\" class=\"dataframe\">\n",
       "  <thead>\n",
       "    <tr style=\"text-align: right;\">\n",
       "      <th></th>\n",
       "      <th>vhigh</th>\n",
       "      <th>vhigh.1</th>\n",
       "      <th>2</th>\n",
       "      <th>2.1</th>\n",
       "      <th>small</th>\n",
       "      <th>low</th>\n",
       "      <th>unacc</th>\n",
       "    </tr>\n",
       "  </thead>\n",
       "  <tbody>\n",
       "    <tr>\n",
       "      <th>0</th>\n",
       "      <td>vhigh</td>\n",
       "      <td>vhigh</td>\n",
       "      <td>2</td>\n",
       "      <td>2</td>\n",
       "      <td>small</td>\n",
       "      <td>med</td>\n",
       "      <td>unacc</td>\n",
       "    </tr>\n",
       "    <tr>\n",
       "      <th>1</th>\n",
       "      <td>vhigh</td>\n",
       "      <td>vhigh</td>\n",
       "      <td>2</td>\n",
       "      <td>2</td>\n",
       "      <td>small</td>\n",
       "      <td>high</td>\n",
       "      <td>unacc</td>\n",
       "    </tr>\n",
       "    <tr>\n",
       "      <th>2</th>\n",
       "      <td>vhigh</td>\n",
       "      <td>vhigh</td>\n",
       "      <td>2</td>\n",
       "      <td>2</td>\n",
       "      <td>med</td>\n",
       "      <td>low</td>\n",
       "      <td>unacc</td>\n",
       "    </tr>\n",
       "    <tr>\n",
       "      <th>3</th>\n",
       "      <td>vhigh</td>\n",
       "      <td>vhigh</td>\n",
       "      <td>2</td>\n",
       "      <td>2</td>\n",
       "      <td>med</td>\n",
       "      <td>med</td>\n",
       "      <td>unacc</td>\n",
       "    </tr>\n",
       "    <tr>\n",
       "      <th>4</th>\n",
       "      <td>vhigh</td>\n",
       "      <td>vhigh</td>\n",
       "      <td>2</td>\n",
       "      <td>2</td>\n",
       "      <td>med</td>\n",
       "      <td>high</td>\n",
       "      <td>unacc</td>\n",
       "    </tr>\n",
       "    <tr>\n",
       "      <th>...</th>\n",
       "      <td>...</td>\n",
       "      <td>...</td>\n",
       "      <td>...</td>\n",
       "      <td>...</td>\n",
       "      <td>...</td>\n",
       "      <td>...</td>\n",
       "      <td>...</td>\n",
       "    </tr>\n",
       "    <tr>\n",
       "      <th>1722</th>\n",
       "      <td>low</td>\n",
       "      <td>low</td>\n",
       "      <td>5more</td>\n",
       "      <td>more</td>\n",
       "      <td>med</td>\n",
       "      <td>med</td>\n",
       "      <td>good</td>\n",
       "    </tr>\n",
       "    <tr>\n",
       "      <th>1723</th>\n",
       "      <td>low</td>\n",
       "      <td>low</td>\n",
       "      <td>5more</td>\n",
       "      <td>more</td>\n",
       "      <td>med</td>\n",
       "      <td>high</td>\n",
       "      <td>vgood</td>\n",
       "    </tr>\n",
       "    <tr>\n",
       "      <th>1724</th>\n",
       "      <td>low</td>\n",
       "      <td>low</td>\n",
       "      <td>5more</td>\n",
       "      <td>more</td>\n",
       "      <td>big</td>\n",
       "      <td>low</td>\n",
       "      <td>unacc</td>\n",
       "    </tr>\n",
       "    <tr>\n",
       "      <th>1725</th>\n",
       "      <td>low</td>\n",
       "      <td>low</td>\n",
       "      <td>5more</td>\n",
       "      <td>more</td>\n",
       "      <td>big</td>\n",
       "      <td>med</td>\n",
       "      <td>good</td>\n",
       "    </tr>\n",
       "    <tr>\n",
       "      <th>1726</th>\n",
       "      <td>low</td>\n",
       "      <td>low</td>\n",
       "      <td>5more</td>\n",
       "      <td>more</td>\n",
       "      <td>big</td>\n",
       "      <td>high</td>\n",
       "      <td>vgood</td>\n",
       "    </tr>\n",
       "  </tbody>\n",
       "</table>\n",
       "<p>1727 rows × 7 columns</p>\n",
       "</div>"
      ],
      "text/plain": [
       "      vhigh vhigh.1      2   2.1  small   low  unacc\n",
       "0     vhigh   vhigh      2     2  small   med  unacc\n",
       "1     vhigh   vhigh      2     2  small  high  unacc\n",
       "2     vhigh   vhigh      2     2    med   low  unacc\n",
       "3     vhigh   vhigh      2     2    med   med  unacc\n",
       "4     vhigh   vhigh      2     2    med  high  unacc\n",
       "...     ...     ...    ...   ...    ...   ...    ...\n",
       "1722    low     low  5more  more    med   med   good\n",
       "1723    low     low  5more  more    med  high  vgood\n",
       "1724    low     low  5more  more    big   low  unacc\n",
       "1725    low     low  5more  more    big   med   good\n",
       "1726    low     low  5more  more    big  high  vgood\n",
       "\n",
       "[1727 rows x 7 columns]"
      ]
     },
     "execution_count": 5,
     "metadata": {},
     "output_type": "execute_result"
    }
   ],
   "source": [
    "import pandas as pd\n",
    "import matplotlib.pyplot as plt\n",
    "import numpy as np\n",
    "import pandas as pd\n",
    "import seaborn as sns\n",
    "from sklearn.model_selection import train_test_split\n",
    "from sklearn import metrics\n",
    "import tensorflow as tf\n",
    "from tensorflow import keras\n",
    "\n",
    "data = pd.read_csv('C:\\\\Users\\\\wdd45\\\\OneDrive\\\\바탕 화면\\\\Car\\\\car.data')\n",
    "data"
   ]
  },
  {
   "cell_type": "code",
   "execution_count": 6,
   "id": "e65cc500",
   "metadata": {},
   "outputs": [
    {
     "data": {
      "text/plain": [
       "pandas.core.frame.DataFrame"
      ]
     },
     "execution_count": 6,
     "metadata": {},
     "output_type": "execute_result"
    }
   ],
   "source": [
    "type(data)"
   ]
  },
  {
   "cell_type": "code",
   "execution_count": 7,
   "id": "96ab329a",
   "metadata": {},
   "outputs": [
    {
     "data": {
      "text/plain": [
       "vhigh      0\n",
       "vhigh.1    0\n",
       "2          0\n",
       "2.1        0\n",
       "small      0\n",
       "low        0\n",
       "unacc      0\n",
       "dtype: int64"
      ]
     },
     "execution_count": 7,
     "metadata": {},
     "output_type": "execute_result"
    }
   ],
   "source": [
    "data.isnull().sum()"
   ]
  },
  {
   "cell_type": "code",
   "execution_count": 8,
   "id": "ad579fe0",
   "metadata": {},
   "outputs": [
    {
     "data": {
      "text/plain": [
       "Index(['vhigh', 'vhigh.1', '2', '2.1', 'small', 'low', 'unacc'], dtype='object')"
      ]
     },
     "execution_count": 8,
     "metadata": {},
     "output_type": "execute_result"
    }
   ],
   "source": [
    "data.columns"
   ]
  },
  {
   "cell_type": "code",
   "execution_count": 10,
   "id": "b0f563e2",
   "metadata": {},
   "outputs": [
    {
     "data": {
      "text/plain": [
       "Text(0.5, 1.0, 'Label')"
      ]
     },
     "execution_count": 10,
     "metadata": {},
     "output_type": "execute_result"
    },
    {
     "data": {
      "image/png": "[encoded data removed]",
      "text/plain": [
       "<Figure size 640x480 with 1 Axes>"
      ]
     },
     "metadata": {},
     "output_type": "display_data"
    }
   ],
   "source": [
    "sns.countplot(data = data, x=\"unacc\")\n",
    "plt.xlabel(\"diabetes or no\")\n",
    "plt.ylabel(\"Count\")\n",
    "plt.title(\"Label\")"
   ]
  },
  {
   "cell_type": "code",
   "execution_count": 61,
   "id": "2126eece",
   "metadata": {},
   "outputs": [],
   "source": [
    "X = data.iloc[:,0:7].values\n",
    "y = data.iloc[:,5].values\n",
    "\n",
    "from sklearn.preprocessing import LabelEncoder\n",
    "encoder =  LabelEncoder()\n",
    "y1 = encoder.fit_transform(y)\n",
    "\n",
    "Y = pd.get_dummies(y).values\n",
    "\n",
    "\n",
    "from sklearn.model_selection import train_test_split\n",
    "X_train,X_test, y_train,y_test = train_test_split(X,Y,test_size=0.2,random_state=0)\n",
    "from sklearn.preprocessing import LabelEncoder\n",
    "\n",
    "le=LabelEncoder()\n",
    "\n",
    "for i in data.columns:\n",
    "\n",
    "    data[i]=le.fit_transform(data[i])"
   ]
  },
  {
   "cell_type": "code",
   "execution_count": 62,
   "id": "71901879",
   "metadata": {},
   "outputs": [
    {
     "data": {
      "text/plain": [
       "array([[3, 3, 0, ..., 2, 2, 2],\n",
       "       [3, 3, 0, ..., 2, 0, 2],\n",
       "       [3, 3, 0, ..., 1, 1, 2],\n",
       "       ...,\n",
       "       [1, 1, 3, ..., 0, 1, 2],\n",
       "       [1, 1, 3, ..., 0, 2, 1],\n",
       "       [1, 1, 3, ..., 0, 0, 3]], dtype=int64)"
      ]
     },
     "execution_count": 62,
     "metadata": {},
     "output_type": "execute_result"
    }
   ],
   "source": [
    "X"
   ]
  },
  {
   "cell_type": "code",
   "execution_count": 63,
   "id": "95f14217",
   "metadata": {},
   "outputs": [
    {
     "data": {
      "text/plain": [
       "array([[0, 0, 1],\n",
       "       [1, 0, 0],\n",
       "       [0, 1, 0],\n",
       "       ...,\n",
       "       [0, 1, 0],\n",
       "       [0, 0, 1],\n",
       "       [1, 0, 0]], dtype=uint8)"
      ]
     },
     "execution_count": 63,
     "metadata": {},
     "output_type": "execute_result"
    }
   ],
   "source": [
    "Y"
   ]
  },
  {
   "cell_type": "code",
   "execution_count": null,
   "id": "07cf54a2",
   "metadata": {},
   "outputs": [],
   "source": []
  },
  {
   "cell_type": "code",
   "execution_count": 64,
   "id": "eb44dde9",
   "metadata": {},
   "outputs": [
    {
     "name": "stdout",
     "output_type": "stream",
     "text": [
      "Model: \"sequential_13\"\n",
      "_________________________________________________________________\n",
      " Layer (type)                Output Shape              Param #   \n",
      "=================================================================\n",
      " dense_52 (Dense)            (None, 6)                 48        \n",
      "                                                                 \n",
      " dense_53 (Dense)            (None, 3)                 21        \n",
      "                                                                 \n",
      " dense_54 (Dense)            (None, 3)                 12        \n",
      "                                                                 \n",
      " dense_55 (Dense)            (None, 2)                 8         \n",
      "                                                                 \n",
      "=================================================================\n",
      "Total params: 89\n",
      "Trainable params: 89\n",
      "Non-trainable params: 0\n",
      "_________________________________________________________________\n"
     ]
    }
   ],
   "source": [
    "from keras.models import Sequential\n",
    "from keras.layers import Dense\n",
    "from keras.optimizers import SGD,Adam\n",
    "\n",
    "\n",
    "model = Sequential()\n",
    "\n",
    "model.add(Dense(6,input_shape=(7,),activation='relu'))\n",
    "model.add(Dense(3,activation='relu'))\n",
    "model.add(Dense(3,activation='relu'))\n",
    "model.add(Dense(2,activation='sigmoid'))\n",
    "\n",
    "model.compile(Adam(lr=0.02),'binary_crossentropy',metrics=['accuracy'])\n",
    "\n",
    "model.summary()"
   ]
  },
  {
   "cell_type": "code",
   "execution_count": 65,
   "id": "db8299bf",
   "metadata": {},
   "outputs": [],
   "source": [
    "from keras.utils import to_categorical\n",
    "\n",
    "y_train_encoded = to_categorical(y_train, num_classes=3)\n",
    "y_test_encoded = to_categorical(y_test, num_classes=3)\n"
   ]
  },
  {
   "cell_type": "code",
   "execution_count": 66,
   "id": "a1bc332c",
   "metadata": {},
   "outputs": [
    {
     "name": "stdout",
     "output_type": "stream",
     "text": [
      "Model: \"sequential_14\"\n",
      "_________________________________________________________________\n",
      " Layer (type)                Output Shape              Param #   \n",
      "=================================================================\n",
      " dense_56 (Dense)            (None, 7)                 56        \n",
      "                                                                 \n",
      " dense_57 (Dense)            (None, 3)                 24        \n",
      "                                                                 \n",
      " dense_58 (Dense)            (None, 3)                 12        \n",
      "                                                                 \n",
      " dense_59 (Dense)            (None, 3)                 12        \n",
      "                                                                 \n",
      "=================================================================\n",
      "Total params: 104\n",
      "Trainable params: 104\n",
      "Non-trainable params: 0\n",
      "_________________________________________________________________\n"
     ]
    }
   ],
   "source": [
    "from keras.models import Sequential\n",
    "from keras.layers import Dense\n",
    "from keras.optimizers import SGD,Adam\n",
    "\n",
    "\n",
    "model = Sequential()\n",
    "\n",
    "model.add(Dense(7,input_shape=(7,),activation='relu'))\n",
    "model.add(Dense(3,activation='relu'))\n",
    "model.add(Dense(3,activation='relu'))\n",
    "model.add(Dense(3,activation='sigmoid'))\n",
    "\n",
    "model.compile(Adam(lr=0.02),'binary_crossentropy',metrics=['accuracy'])\n",
    "\n",
    "model.summary()"
   ]
  },
  {
   "cell_type": "code",
   "execution_count": 67,
   "id": "897807bf",
   "metadata": {},
   "outputs": [
    {
     "name": "stdout",
     "output_type": "stream",
     "text": [
      "Epoch 1/100\n",
      "WARNING:tensorflow:AutoGraph could not transform <function Model.make_train_function.<locals>.train_function at 0x0000025D582FECA8> and will run it as-is.\n",
      "Please report this to the TensorFlow team. When filing the bug, set the verbosity to 10 (on Linux, `export AUTOGRAPH_VERBOSITY=10`) and attach the full output.\n",
      "Cause: 'arguments' object has no attribute 'posonlyargs'\n",
      "To silence this warning, decorate the function with @tf.autograph.experimental.do_not_convert\n",
      "WARNING: AutoGraph could not transform <function Model.make_train_function.<locals>.train_function at 0x0000025D582FECA8> and will run it as-is.\n",
      "Please report this to the TensorFlow team. When filing the bug, set the verbosity to 10 (on Linux, `export AUTOGRAPH_VERBOSITY=10`) and attach the full output.\n",
      "Cause: 'arguments' object has no attribute 'posonlyargs'\n",
      "To silence this warning, decorate the function with @tf.autograph.experimental.do_not_convert\n",
      "42/44 [===========================>..] - ETA: 0s - loss: 0.5259 - accuracy: 0.5513WARNING:tensorflow:AutoGraph could not transform <function Model.make_test_function.<locals>.test_function at 0x0000025D56F42948> and will run it as-is.\n",
      "Please report this to the TensorFlow team. When filing the bug, set the verbosity to 10 (on Linux, `export AUTOGRAPH_VERBOSITY=10`) and attach the full output.\n",
      "Cause: 'arguments' object has no attribute 'posonlyargs'\n",
      "To silence this warning, decorate the function with @tf.autograph.experimental.do_not_convert\n",
      "WARNING: AutoGraph could not transform <function Model.make_test_function.<locals>.test_function at 0x0000025D56F42948> and will run it as-is.\n",
      "Please report this to the TensorFlow team. When filing the bug, set the verbosity to 10 (on Linux, `export AUTOGRAPH_VERBOSITY=10`) and attach the full output.\n",
      "Cause: 'arguments' object has no attribute 'posonlyargs'\n",
      "To silence this warning, decorate the function with @tf.autograph.experimental.do_not_convert\n",
      "44/44 [==============================] - 1s 13ms/step - loss: 0.5218 - accuracy: 0.5539 - val_loss: 0.3805 - val_accuracy: 0.6763\n",
      "Epoch 2/100\n",
      "44/44 [==============================] - 0s 6ms/step - loss: 0.2084 - accuracy: 0.9739 - val_loss: 0.1074 - val_accuracy: 1.0000\n",
      "Epoch 3/100\n",
      "44/44 [==============================] - 0s 4ms/step - loss: 0.0683 - accuracy: 1.0000 - val_loss: 0.0576 - val_accuracy: 1.0000\n",
      "Epoch 4/100\n",
      "44/44 [==============================] - 0s 5ms/step - loss: 0.0414 - accuracy: 1.0000 - val_loss: 0.0388 - val_accuracy: 1.0000\n",
      "Epoch 5/100\n",
      "44/44 [==============================] - 0s 4ms/step - loss: 0.0292 - accuracy: 1.0000 - val_loss: 0.0285 - val_accuracy: 1.0000\n",
      "Epoch 6/100\n",
      "44/44 [==============================] - 0s 4ms/step - loss: 0.0219 - accuracy: 1.0000 - val_loss: 0.0222 - val_accuracy: 1.0000\n",
      "Epoch 7/100\n",
      "44/44 [==============================] - 0s 4ms/step - loss: 0.0173 - accuracy: 1.0000 - val_loss: 0.0178 - val_accuracy: 1.0000\n",
      "Epoch 8/100\n",
      "44/44 [==============================] - 0s 3ms/step - loss: 0.0140 - accuracy: 1.0000 - val_loss: 0.0146 - val_accuracy: 1.0000\n",
      "Epoch 9/100\n",
      "44/44 [==============================] - 0s 4ms/step - loss: 0.0117 - accuracy: 1.0000 - val_loss: 0.0123 - val_accuracy: 1.0000\n",
      "Epoch 10/100\n",
      "44/44 [==============================] - 0s 4ms/step - loss: 0.0099 - accuracy: 1.0000 - val_loss: 0.0105 - val_accuracy: 1.0000\n",
      "Epoch 11/100\n",
      "44/44 [==============================] - 0s 5ms/step - loss: 0.0085 - accuracy: 1.0000 - val_loss: 0.0091 - val_accuracy: 1.0000\n",
      "Epoch 12/100\n",
      "44/44 [==============================] - 0s 5ms/step - loss: 0.0074 - accuracy: 1.0000 - val_loss: 0.0080 - val_accuracy: 1.0000\n",
      "Epoch 13/100\n",
      "44/44 [==============================] - 0s 4ms/step - loss: 0.0065 - accuracy: 1.0000 - val_loss: 0.0070 - val_accuracy: 1.0000\n",
      "Epoch 14/100\n",
      "44/44 [==============================] - 0s 4ms/step - loss: 0.0058 - accuracy: 1.0000 - val_loss: 0.0063 - val_accuracy: 1.0000\n",
      "Epoch 15/100\n",
      "44/44 [==============================] - 0s 5ms/step - loss: 0.0052 - accuracy: 1.0000 - val_loss: 0.0056 - val_accuracy: 1.0000\n",
      "Epoch 16/100\n",
      "44/44 [==============================] - 0s 4ms/step - loss: 0.0047 - accuracy: 1.0000 - val_loss: 0.0051 - val_accuracy: 1.0000\n",
      "Epoch 17/100\n",
      "44/44 [==============================] - 0s 5ms/step - loss: 0.0042 - accuracy: 1.0000 - val_loss: 0.0046 - val_accuracy: 1.0000\n",
      "Epoch 18/100\n",
      "44/44 [==============================] - 0s 6ms/step - loss: 0.0039 - accuracy: 1.0000 - val_loss: 0.0042 - val_accuracy: 1.0000\n",
      "Epoch 19/100\n",
      "44/44 [==============================] - 0s 5ms/step - loss: 0.0035 - accuracy: 1.0000 - val_loss: 0.0039 - val_accuracy: 1.0000\n",
      "Epoch 20/100\n",
      "44/44 [==============================] - 0s 5ms/step - loss: 0.0032 - accuracy: 1.0000 - val_loss: 0.0036 - val_accuracy: 1.0000\n",
      "Epoch 21/100\n",
      "44/44 [==============================] - 0s 5ms/step - loss: 0.0030 - accuracy: 1.0000 - val_loss: 0.0033 - val_accuracy: 1.0000\n",
      "Epoch 22/100\n",
      "44/44 [==============================] - 0s 5ms/step - loss: 0.0028 - accuracy: 1.0000 - val_loss: 0.0031 - val_accuracy: 1.0000\n",
      "Epoch 23/100\n",
      "44/44 [==============================] - 0s 4ms/step - loss: 0.0026 - accuracy: 1.0000 - val_loss: 0.0028 - val_accuracy: 1.0000\n",
      "Epoch 24/100\n",
      "44/44 [==============================] - 0s 4ms/step - loss: 0.0024 - accuracy: 1.0000 - val_loss: 0.0027 - val_accuracy: 1.0000\n",
      "Epoch 25/100\n",
      "44/44 [==============================] - 0s 4ms/step - loss: 0.0022 - accuracy: 1.0000 - val_loss: 0.0025 - val_accuracy: 1.0000\n",
      "Epoch 26/100\n",
      "44/44 [==============================] - 0s 5ms/step - loss: 0.0021 - accuracy: 1.0000 - val_loss: 0.0023 - val_accuracy: 1.0000\n",
      "Epoch 27/100\n",
      "44/44 [==============================] - 0s 4ms/step - loss: 0.0020 - accuracy: 1.0000 - val_loss: 0.0022 - val_accuracy: 1.0000\n",
      "Epoch 28/100\n",
      "44/44 [==============================] - 0s 5ms/step - loss: 0.0018 - accuracy: 1.0000 - val_loss: 0.0020 - val_accuracy: 1.0000\n",
      "Epoch 29/100\n",
      "44/44 [==============================] - 0s 4ms/step - loss: 0.0017 - accuracy: 1.0000 - val_loss: 0.0019 - val_accuracy: 1.0000\n",
      "Epoch 30/100\n",
      "44/44 [==============================] - 0s 4ms/step - loss: 0.0016 - accuracy: 1.0000 - val_loss: 0.0018 - val_accuracy: 1.0000\n",
      "Epoch 31/100\n",
      "44/44 [==============================] - 0s 4ms/step - loss: 0.0015 - accuracy: 1.0000 - val_loss: 0.0017 - val_accuracy: 1.0000\n",
      "Epoch 32/100\n",
      "44/44 [==============================] - 0s 4ms/step - loss: 0.0015 - accuracy: 1.0000 - val_loss: 0.0016 - val_accuracy: 1.0000\n",
      "Epoch 33/100\n",
      "44/44 [==============================] - 0s 3ms/step - loss: 0.0014 - accuracy: 1.0000 - val_loss: 0.0015 - val_accuracy: 1.0000\n",
      "Epoch 34/100\n",
      "44/44 [==============================] - 0s 3ms/step - loss: 0.0013 - accuracy: 1.0000 - val_loss: 0.0015 - val_accuracy: 1.0000\n",
      "Epoch 35/100\n",
      "44/44 [==============================] - 0s 3ms/step - loss: 0.0012 - accuracy: 1.0000 - val_loss: 0.0014 - val_accuracy: 1.0000\n",
      "Epoch 36/100\n",
      "44/44 [==============================] - 0s 3ms/step - loss: 0.0012 - accuracy: 1.0000 - val_loss: 0.0013 - val_accuracy: 1.0000\n",
      "Epoch 37/100\n",
      "44/44 [==============================] - 0s 3ms/step - loss: 0.0011 - accuracy: 1.0000 - val_loss: 0.0013 - val_accuracy: 1.0000\n",
      "Epoch 38/100\n",
      "44/44 [==============================] - 0s 3ms/step - loss: 0.0011 - accuracy: 1.0000 - val_loss: 0.0012 - val_accuracy: 1.0000\n",
      "Epoch 39/100\n",
      "44/44 [==============================] - 0s 3ms/step - loss: 0.0010 - accuracy: 1.0000 - val_loss: 0.0011 - val_accuracy: 1.0000\n",
      "Epoch 40/100\n",
      "44/44 [==============================] - 0s 3ms/step - loss: 9.7495e-04 - accuracy: 1.0000 - val_loss: 0.0011 - val_accuracy: 1.0000\n",
      "Epoch 41/100\n",
      "44/44 [==============================] - 0s 3ms/step - loss: 9.3146e-04 - accuracy: 1.0000 - val_loss: 0.0010 - val_accuracy: 1.0000\n",
      "Epoch 42/100\n",
      "44/44 [==============================] - 0s 3ms/step - loss: 8.9081e-04 - accuracy: 1.0000 - val_loss: 0.0010 - val_accuracy: 1.0000\n",
      "Epoch 43/100\n",
      "44/44 [==============================] - 0s 3ms/step - loss: 8.5218e-04 - accuracy: 1.0000 - val_loss: 9.6007e-04 - val_accuracy: 1.0000\n",
      "Epoch 44/100\n",
      "44/44 [==============================] - 0s 2ms/step - loss: 8.1598e-04 - accuracy: 1.0000 - val_loss: 9.1853e-04 - val_accuracy: 1.0000\n",
      "Epoch 45/100\n"
     ]
    },
    {
     "name": "stdout",
     "output_type": "stream",
     "text": [
      "44/44 [==============================] - 0s 3ms/step - loss: 7.8125e-04 - accuracy: 1.0000 - val_loss: 8.8077e-04 - val_accuracy: 1.0000\n",
      "Epoch 46/100\n",
      "44/44 [==============================] - 0s 4ms/step - loss: 7.4938e-04 - accuracy: 1.0000 - val_loss: 8.4583e-04 - val_accuracy: 1.0000\n",
      "Epoch 47/100\n",
      "44/44 [==============================] - 0s 3ms/step - loss: 7.1956e-04 - accuracy: 1.0000 - val_loss: 8.1235e-04 - val_accuracy: 1.0000\n",
      "Epoch 48/100\n",
      "44/44 [==============================] - 0s 3ms/step - loss: 6.9161e-04 - accuracy: 1.0000 - val_loss: 7.8049e-04 - val_accuracy: 1.0000\n",
      "Epoch 49/100\n",
      "44/44 [==============================] - 0s 3ms/step - loss: 6.6472e-04 - accuracy: 1.0000 - val_loss: 7.5040e-04 - val_accuracy: 1.0000\n",
      "Epoch 50/100\n",
      "44/44 [==============================] - 0s 3ms/step - loss: 6.3929e-04 - accuracy: 1.0000 - val_loss: 7.2183e-04 - val_accuracy: 1.0000\n",
      "Epoch 51/100\n",
      "44/44 [==============================] - 0s 3ms/step - loss: 6.1530e-04 - accuracy: 1.0000 - val_loss: 6.9534e-04 - val_accuracy: 1.0000\n",
      "Epoch 52/100\n",
      "44/44 [==============================] - 0s 3ms/step - loss: 5.9251e-04 - accuracy: 1.0000 - val_loss: 6.6946e-04 - val_accuracy: 1.0000\n",
      "Epoch 53/100\n",
      "44/44 [==============================] - 0s 2ms/step - loss: 5.7046e-04 - accuracy: 1.0000 - val_loss: 6.4492e-04 - val_accuracy: 1.0000\n",
      "Epoch 54/100\n",
      "44/44 [==============================] - 0s 3ms/step - loss: 5.4957e-04 - accuracy: 1.0000 - val_loss: 6.2147e-04 - val_accuracy: 1.0000\n",
      "Epoch 55/100\n",
      "44/44 [==============================] - 0s 4ms/step - loss: 5.2994e-04 - accuracy: 1.0000 - val_loss: 5.9885e-04 - val_accuracy: 1.0000\n",
      "Epoch 56/100\n",
      "44/44 [==============================] - 0s 2ms/step - loss: 5.1064e-04 - accuracy: 1.0000 - val_loss: 5.7768e-04 - val_accuracy: 1.0000\n",
      "Epoch 57/100\n",
      "44/44 [==============================] - 0s 3ms/step - loss: 4.9284e-04 - accuracy: 1.0000 - val_loss: 5.5728e-04 - val_accuracy: 1.0000\n",
      "Epoch 58/100\n",
      "44/44 [==============================] - 0s 3ms/step - loss: 4.7563e-04 - accuracy: 1.0000 - val_loss: 5.3860e-04 - val_accuracy: 1.0000\n",
      "Epoch 59/100\n",
      "44/44 [==============================] - 0s 3ms/step - loss: 4.5936e-04 - accuracy: 1.0000 - val_loss: 5.1975e-04 - val_accuracy: 1.0000\n",
      "Epoch 60/100\n",
      "44/44 [==============================] - 0s 3ms/step - loss: 4.4369e-04 - accuracy: 1.0000 - val_loss: 5.0173e-04 - val_accuracy: 1.0000\n",
      "Epoch 61/100\n",
      "44/44 [==============================] - 0s 3ms/step - loss: 4.2852e-04 - accuracy: 1.0000 - val_loss: 4.8507e-04 - val_accuracy: 1.0000\n",
      "Epoch 62/100\n",
      "44/44 [==============================] - 0s 2ms/step - loss: 4.1420e-04 - accuracy: 1.0000 - val_loss: 4.6898e-04 - val_accuracy: 1.0000\n",
      "Epoch 63/100\n",
      "44/44 [==============================] - 0s 3ms/step - loss: 4.0058e-04 - accuracy: 1.0000 - val_loss: 4.5378e-04 - val_accuracy: 1.0000\n",
      "Epoch 64/100\n",
      "44/44 [==============================] - 0s 3ms/step - loss: 3.8741e-04 - accuracy: 1.0000 - val_loss: 4.3854e-04 - val_accuracy: 1.0000\n",
      "Epoch 65/100\n",
      "44/44 [==============================] - 0s 2ms/step - loss: 3.7474e-04 - accuracy: 1.0000 - val_loss: 4.2432e-04 - val_accuracy: 1.0000\n",
      "Epoch 66/100\n",
      "44/44 [==============================] - 0s 3ms/step - loss: 3.6263e-04 - accuracy: 1.0000 - val_loss: 4.1087e-04 - val_accuracy: 1.0000\n",
      "Epoch 67/100\n",
      "44/44 [==============================] - 0s 3ms/step - loss: 3.5119e-04 - accuracy: 1.0000 - val_loss: 3.9791e-04 - val_accuracy: 1.0000\n",
      "Epoch 68/100\n",
      "44/44 [==============================] - 0s 3ms/step - loss: 3.4010e-04 - accuracy: 1.0000 - val_loss: 3.8542e-04 - val_accuracy: 1.0000\n",
      "Epoch 69/100\n",
      "44/44 [==============================] - 0s 3ms/step - loss: 3.2963e-04 - accuracy: 1.0000 - val_loss: 3.7360e-04 - val_accuracy: 1.0000\n",
      "Epoch 70/100\n",
      "44/44 [==============================] - 0s 3ms/step - loss: 3.1938e-04 - accuracy: 1.0000 - val_loss: 3.6224e-04 - val_accuracy: 1.0000\n",
      "Epoch 71/100\n",
      "44/44 [==============================] - 0s 3ms/step - loss: 3.0976e-04 - accuracy: 1.0000 - val_loss: 3.5118e-04 - val_accuracy: 1.0000\n",
      "Epoch 72/100\n",
      "44/44 [==============================] - 0s 3ms/step - loss: 3.0018e-04 - accuracy: 1.0000 - val_loss: 3.4048e-04 - val_accuracy: 1.0000\n",
      "Epoch 73/100\n",
      "44/44 [==============================] - 0s 3ms/step - loss: 2.9117e-04 - accuracy: 1.0000 - val_loss: 3.3012e-04 - val_accuracy: 1.0000\n",
      "Epoch 74/100\n",
      "44/44 [==============================] - 0s 3ms/step - loss: 2.8253e-04 - accuracy: 1.0000 - val_loss: 3.2041e-04 - val_accuracy: 1.0000\n",
      "Epoch 75/100\n",
      "44/44 [==============================] - 0s 4ms/step - loss: 2.7392e-04 - accuracy: 1.0000 - val_loss: 3.1086e-04 - val_accuracy: 1.0000\n",
      "Epoch 76/100\n",
      "44/44 [==============================] - 0s 4ms/step - loss: 2.6587e-04 - accuracy: 1.0000 - val_loss: 3.0164e-04 - val_accuracy: 1.0000\n",
      "Epoch 77/100\n",
      "44/44 [==============================] - 0s 3ms/step - loss: 2.5798e-04 - accuracy: 1.0000 - val_loss: 2.9258e-04 - val_accuracy: 1.0000\n",
      "Epoch 78/100\n",
      "44/44 [==============================] - 0s 3ms/step - loss: 2.5044e-04 - accuracy: 1.0000 - val_loss: 2.8414e-04 - val_accuracy: 1.0000\n",
      "Epoch 79/100\n",
      "44/44 [==============================] - 0s 3ms/step - loss: 2.4315e-04 - accuracy: 1.0000 - val_loss: 2.7596e-04 - val_accuracy: 1.0000\n",
      "Epoch 80/100\n",
      "44/44 [==============================] - 0s 3ms/step - loss: 2.3621e-04 - accuracy: 1.0000 - val_loss: 2.6803e-04 - val_accuracy: 1.0000\n",
      "Epoch 81/100\n",
      "44/44 [==============================] - 0s 4ms/step - loss: 2.2942e-04 - accuracy: 1.0000 - val_loss: 2.6038e-04 - val_accuracy: 1.0000\n",
      "Epoch 82/100\n",
      "44/44 [==============================] - 0s 4ms/step - loss: 2.2287e-04 - accuracy: 1.0000 - val_loss: 2.5301e-04 - val_accuracy: 1.0000\n",
      "Epoch 83/100\n",
      "44/44 [==============================] - 0s 3ms/step - loss: 2.1659e-04 - accuracy: 1.0000 - val_loss: 2.4592e-04 - val_accuracy: 1.0000\n",
      "Epoch 84/100\n",
      "44/44 [==============================] - 0s 4ms/step - loss: 2.1052e-04 - accuracy: 1.0000 - val_loss: 2.3892e-04 - val_accuracy: 1.0000\n",
      "Epoch 85/100\n",
      "44/44 [==============================] - 0s 3ms/step - loss: 2.0463e-04 - accuracy: 1.0000 - val_loss: 2.3246e-04 - val_accuracy: 1.0000\n",
      "Epoch 86/100\n",
      "44/44 [==============================] - 0s 3ms/step - loss: 1.9905e-04 - accuracy: 1.0000 - val_loss: 2.2592e-04 - val_accuracy: 1.0000\n",
      "Epoch 87/100\n",
      "44/44 [==============================] - 0s 3ms/step - loss: 1.9353e-04 - accuracy: 1.0000 - val_loss: 2.1979e-04 - val_accuracy: 1.0000\n",
      "Epoch 88/100\n",
      "44/44 [==============================] - 0s 3ms/step - loss: 1.8827e-04 - accuracy: 1.0000 - val_loss: 2.1380e-04 - val_accuracy: 1.0000\n",
      "Epoch 89/100\n",
      "44/44 [==============================] - 0s 3ms/step - loss: 1.8316e-04 - accuracy: 1.0000 - val_loss: 2.0798e-04 - val_accuracy: 1.0000\n",
      "Epoch 90/100\n",
      "44/44 [==============================] - 0s 3ms/step - loss: 1.7819e-04 - accuracy: 1.0000 - val_loss: 2.0243e-04 - val_accuracy: 1.0000\n",
      "Epoch 91/100\n",
      "44/44 [==============================] - 0s 3ms/step - loss: 1.7336e-04 - accuracy: 1.0000 - val_loss: 1.9697e-04 - val_accuracy: 1.0000\n",
      "Epoch 92/100\n",
      "44/44 [==============================] - 0s 4ms/step - loss: 1.6864e-04 - accuracy: 1.0000 - val_loss: 1.9154e-04 - val_accuracy: 1.0000\n",
      "Epoch 93/100\n",
      "44/44 [==============================] - 0s 4ms/step - loss: 1.6411e-04 - accuracy: 1.0000 - val_loss: 1.8650e-04 - val_accuracy: 1.0000\n",
      "Epoch 94/100\n",
      "44/44 [==============================] - 0s 3ms/step - loss: 1.5978e-04 - accuracy: 1.0000 - val_loss: 1.8154e-04 - val_accuracy: 1.0000\n",
      "Epoch 95/100\n",
      "44/44 [==============================] - 0s 4ms/step - loss: 1.5554e-04 - accuracy: 1.0000 - val_loss: 1.7681e-04 - val_accuracy: 1.0000\n",
      "Epoch 96/100\n",
      "44/44 [==============================] - 0s 3ms/step - loss: 1.5140e-04 - accuracy: 1.0000 - val_loss: 1.7206e-04 - val_accuracy: 1.0000\n",
      "Epoch 97/100\n",
      "44/44 [==============================] - 0s 3ms/step - loss: 1.4739e-04 - accuracy: 1.0000 - val_loss: 1.6744e-04 - val_accuracy: 1.0000\n",
      "Epoch 98/100\n",
      "44/44 [==============================] - 0s 3ms/step - loss: 1.4348e-04 - accuracy: 1.0000 - val_loss: 1.6312e-04 - val_accuracy: 1.0000\n",
      "Epoch 99/100\n",
      "44/44 [==============================] - 0s 3ms/step - loss: 1.3976e-04 - accuracy: 1.0000 - val_loss: 1.5878e-04 - val_accuracy: 1.0000\n"
     ]
    },
    {
     "name": "stdout",
     "output_type": "stream",
     "text": [
      "Epoch 100/100\n",
      "44/44 [==============================] - 0s 3ms/step - loss: 1.3608e-04 - accuracy: 1.0000 - val_loss: 1.5468e-04 - val_accuracy: 1.0000\n",
      "WARNING:tensorflow:AutoGraph could not transform <function Model.make_predict_function.<locals>.predict_function at 0x0000025D5277ACA8> and will run it as-is.\n",
      "Please report this to the TensorFlow team. When filing the bug, set the verbosity to 10 (on Linux, `export AUTOGRAPH_VERBOSITY=10`) and attach the full output.\n",
      "Cause: 'arguments' object has no attribute 'posonlyargs'\n",
      "To silence this warning, decorate the function with @tf.autograph.experimental.do_not_convert\n",
      "WARNING: AutoGraph could not transform <function Model.make_predict_function.<locals>.predict_function at 0x0000025D5277ACA8> and will run it as-is.\n",
      "Please report this to the TensorFlow team. When filing the bug, set the verbosity to 10 (on Linux, `export AUTOGRAPH_VERBOSITY=10`) and attach the full output.\n",
      "Cause: 'arguments' object has no attribute 'posonlyargs'\n",
      "To silence this warning, decorate the function with @tf.autograph.experimental.do_not_convert\n",
      "11/11 [==============================] - 0s 2ms/step\n"
     ]
    }
   ],
   "source": [
    "model_history=model.fit(x=X_train, y=y_train, epochs=100, batch_size=32,validation_data= (X_test,y_test))\n",
    "y_pred = model.predict(X_test)\n",
    "\n",
    "y_test_class = np.argmax(y_test,axis=1)\n",
    "y_pred_class = np.argmax(y_pred,axis=1)"
   ]
  },
  {
   "cell_type": "code",
   "execution_count": 68,
   "id": "4810dd8c",
   "metadata": {},
   "outputs": [
    {
     "data": {
      "image/png": "[encoded data removed]",
      "text/plain": [
       "<Figure size 640x480 with 1 Axes>"
      ]
     },
     "metadata": {},
     "output_type": "display_data"
    }
   ],
   "source": [
    "import matplotlib.pyplot as plt\n",
    "import seaborn as sns\n",
    "\n",
    "loss =model_history.history['loss']\n",
    "val_loss =model_history.history['val_loss']\n",
    "epochs = range(1, len(loss) + 1)\n",
    "plt.plot(epochs, loss, 'y', label='Training loss')\n",
    "plt.plot(epochs, val_loss, 'r', label='Validation loss')\n",
    "plt.title('Training and validation loss')\n",
    "plt.xlabel('Epochs')\n",
    "plt.ylabel('Loss')\n",
    "plt.legend()\n",
    "plt.show()"
   ]
  },
  {
   "cell_type": "code",
   "execution_count": 69,
   "id": "dc89eb95",
   "metadata": {},
   "outputs": [
    {
     "data": {
      "image/png": "[encoded data removed]",
      "text/plain": [
       "<Figure size 640x480 with 1 Axes>"
      ]
     },
     "metadata": {},
     "output_type": "display_data"
    }
   ],
   "source": [
    "acc =model_history.history['accuracy']\n",
    "val_acc =model_history.history['val_accuracy']\n",
    "plt.plot(epochs, acc, 'y', label='Training acc')\n",
    "plt.plot(epochs, val_acc, 'r', label='Validation acc')\n",
    "plt.title('Training and validation accuracy')\n",
    "plt.xlabel('Epochs')\n",
    "plt.ylabel('Accuracy')\n",
    "plt.legend()\n",
    "plt.show()"
   ]
  },
  {
   "cell_type": "code",
   "execution_count": null,
   "id": "81a764d1",
   "metadata": {},
   "outputs": [],
   "source": []
  },
  {
   "cell_type": "code",
   "execution_count": null,
   "id": "abc0e2fb",
   "metadata": {},
   "outputs": [],
   "source": []
  }
 ],
 "metadata": {
  "kernelspec": {
   "display_name": "Python 3 (ipykernel)",
   "language": "python",
   "name": "python3"
  },
  "language_info": {
   "codemirror_mode": {
    "name": "ipython",
    "version": 3
   },
   "file_extension": ".py",
   "mimetype": "text/x-python",
   "name": "python",
   "nbconvert_exporter": "python",
   "pygments_lexer": "ipython3",
   "version": "3.7.16"
  }
 },
 "nbformat": 4,
 "nbformat_minor": 5
}
