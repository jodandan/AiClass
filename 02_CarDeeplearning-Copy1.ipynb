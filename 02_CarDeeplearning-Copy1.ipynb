{
 "cells": [
  {
   "cell_type": "code",
   "execution_count": 2,
   "id": "24175fb6",
   "metadata": {},
   "outputs": [
    {
     "data": {
      "text/html": [
       "<div>\n",
       "<style scoped>\n",
       "    .dataframe tbody tr th:only-of-type {\n",
       "        vertical-align: middle;\n",
       "    }\n",
       "\n",
       "    .dataframe tbody tr th {\n",
       "        vertical-align: top;\n",
       "    }\n",
       "\n",
       "    .dataframe thead th {\n",
       "        text-align: right;\n",
       "    }\n",
       "</style>\n",
       "<table border=\"1\" class=\"dataframe\">\n",
       "  <thead>\n",
       "    <tr style=\"text-align: right;\">\n",
       "      <th></th>\n",
       "      <th>vhigh</th>\n",
       "      <th>vhigh.1</th>\n",
       "      <th>2</th>\n",
       "      <th>2.1</th>\n",
       "      <th>small</th>\n",
       "      <th>low</th>\n",
       "      <th>unacc</th>\n",
       "    </tr>\n",
       "  </thead>\n",
       "  <tbody>\n",
       "    <tr>\n",
       "      <th>0</th>\n",
       "      <td>vhigh</td>\n",
       "      <td>vhigh</td>\n",
       "      <td>2</td>\n",
       "      <td>2</td>\n",
       "      <td>small</td>\n",
       "      <td>med</td>\n",
       "      <td>unacc</td>\n",
       "    </tr>\n",
       "    <tr>\n",
       "      <th>1</th>\n",
       "      <td>vhigh</td>\n",
       "      <td>vhigh</td>\n",
       "      <td>2</td>\n",
       "      <td>2</td>\n",
       "      <td>small</td>\n",
       "      <td>high</td>\n",
       "      <td>unacc</td>\n",
       "    </tr>\n",
       "    <tr>\n",
       "      <th>2</th>\n",
       "      <td>vhigh</td>\n",
       "      <td>vhigh</td>\n",
       "      <td>2</td>\n",
       "      <td>2</td>\n",
       "      <td>med</td>\n",
       "      <td>low</td>\n",
       "      <td>unacc</td>\n",
       "    </tr>\n",
       "    <tr>\n",
       "      <th>3</th>\n",
       "      <td>vhigh</td>\n",
       "      <td>vhigh</td>\n",
       "      <td>2</td>\n",
       "      <td>2</td>\n",
       "      <td>med</td>\n",
       "      <td>med</td>\n",
       "      <td>unacc</td>\n",
       "    </tr>\n",
       "    <tr>\n",
       "      <th>4</th>\n",
       "      <td>vhigh</td>\n",
       "      <td>vhigh</td>\n",
       "      <td>2</td>\n",
       "      <td>2</td>\n",
       "      <td>med</td>\n",
       "      <td>high</td>\n",
       "      <td>unacc</td>\n",
       "    </tr>\n",
       "    <tr>\n",
       "      <th>...</th>\n",
       "      <td>...</td>\n",
       "      <td>...</td>\n",
       "      <td>...</td>\n",
       "      <td>...</td>\n",
       "      <td>...</td>\n",
       "      <td>...</td>\n",
       "      <td>...</td>\n",
       "    </tr>\n",
       "    <tr>\n",
       "      <th>1722</th>\n",
       "      <td>low</td>\n",
       "      <td>low</td>\n",
       "      <td>5more</td>\n",
       "      <td>more</td>\n",
       "      <td>med</td>\n",
       "      <td>med</td>\n",
       "      <td>good</td>\n",
       "    </tr>\n",
       "    <tr>\n",
       "      <th>1723</th>\n",
       "      <td>low</td>\n",
       "      <td>low</td>\n",
       "      <td>5more</td>\n",
       "      <td>more</td>\n",
       "      <td>med</td>\n",
       "      <td>high</td>\n",
       "      <td>vgood</td>\n",
       "    </tr>\n",
       "    <tr>\n",
       "      <th>1724</th>\n",
       "      <td>low</td>\n",
       "      <td>low</td>\n",
       "      <td>5more</td>\n",
       "      <td>more</td>\n",
       "      <td>big</td>\n",
       "      <td>low</td>\n",
       "      <td>unacc</td>\n",
       "    </tr>\n",
       "    <tr>\n",
       "      <th>1725</th>\n",
       "      <td>low</td>\n",
       "      <td>low</td>\n",
       "      <td>5more</td>\n",
       "      <td>more</td>\n",
       "      <td>big</td>\n",
       "      <td>med</td>\n",
       "      <td>good</td>\n",
       "    </tr>\n",
       "    <tr>\n",
       "      <th>1726</th>\n",
       "      <td>low</td>\n",
       "      <td>low</td>\n",
       "      <td>5more</td>\n",
       "      <td>more</td>\n",
       "      <td>big</td>\n",
       "      <td>high</td>\n",
       "      <td>vgood</td>\n",
       "    </tr>\n",
       "  </tbody>\n",
       "</table>\n",
       "<p>1727 rows × 7 columns</p>\n",
       "</div>"
      ],
      "text/plain": [
       "      vhigh vhigh.1      2   2.1  small   low  unacc\n",
       "0     vhigh   vhigh      2     2  small   med  unacc\n",
       "1     vhigh   vhigh      2     2  small  high  unacc\n",
       "2     vhigh   vhigh      2     2    med   low  unacc\n",
       "3     vhigh   vhigh      2     2    med   med  unacc\n",
       "4     vhigh   vhigh      2     2    med  high  unacc\n",
       "...     ...     ...    ...   ...    ...   ...    ...\n",
       "1722    low     low  5more  more    med   med   good\n",
       "1723    low     low  5more  more    med  high  vgood\n",
       "1724    low     low  5more  more    big   low  unacc\n",
       "1725    low     low  5more  more    big   med   good\n",
       "1726    low     low  5more  more    big  high  vgood\n",
       "\n",
       "[1727 rows x 7 columns]"
      ]
     },
     "execution_count": 2,
     "metadata": {},
     "output_type": "execute_result"
    }
   ],
   "source": [
    "import pandas as pd\n",
    "import matplotlib.pyplot as plt\n",
    "import numpy as np\n",
    "import pandas as pd\n",
    "import seaborn as sns\n",
    "from sklearn.model_selection import train_test_split\n",
    "from sklearn import metrics\n",
    "import tensorflow as tf\n",
    "from tensorflow import keras\n",
    "\n",
    "data = pd.read_csv('C:\\\\Users\\\\wdd45\\\\OneDrive\\\\바탕 화면\\\\Car\\\\car.data')\n",
    "data"
   ]
  },
  {
   "cell_type": "code",
   "execution_count": 3,
   "id": "e65cc500",
   "metadata": {},
   "outputs": [
    {
     "data": {
      "text/plain": [
       "pandas.core.frame.DataFrame"
      ]
     },
     "execution_count": 3,
     "metadata": {},
     "output_type": "execute_result"
    }
   ],
   "source": [
    "type(data)"
   ]
  },
  {
   "cell_type": "code",
   "execution_count": 4,
   "id": "96ab329a",
   "metadata": {},
   "outputs": [
    {
     "data": {
      "text/plain": [
       "vhigh      0\n",
       "vhigh.1    0\n",
       "2          0\n",
       "2.1        0\n",
       "small      0\n",
       "low        0\n",
       "unacc      0\n",
       "dtype: int64"
      ]
     },
     "execution_count": 4,
     "metadata": {},
     "output_type": "execute_result"
    }
   ],
   "source": [
    "data.isnull().sum()"
   ]
  },
  {
   "cell_type": "code",
   "execution_count": 5,
   "id": "ad579fe0",
   "metadata": {},
   "outputs": [
    {
     "data": {
      "text/plain": [
       "Index(['vhigh', 'vhigh.1', '2', '2.1', 'small', 'low', 'unacc'], dtype='object')"
      ]
     },
     "execution_count": 5,
     "metadata": {},
     "output_type": "execute_result"
    }
   ],
   "source": [
    "data.columns"
   ]
  },
  {
   "cell_type": "code",
   "execution_count": 6,
   "id": "b0f563e2",
   "metadata": {},
   "outputs": [
    {
     "data": {
      "text/plain": [
       "Text(0.5, 1.0, 'Label')"
      ]
     },
     "execution_count": 6,
     "metadata": {},
     "output_type": "execute_result"
    },
    {
     "data": {
      "image/png": "[encoded data removed]",
      "text/plain": [
       "<Figure size 640x480 with 1 Axes>"
      ]
     },
     "metadata": {},
     "output_type": "display_data"
    }
   ],
   "source": [
    "sns.countplot(data = data, x=\"unacc\")\n",
    "plt.xlabel(\"diabetes or no\")\n",
    "plt.ylabel(\"Count\")\n",
    "plt.title(\"Label\")"
   ]
  },
  {
   "cell_type": "code",
   "execution_count": 9,
   "id": "2126eece",
   "metadata": {},
   "outputs": [],
   "source": [
    "X = data.iloc[:,0:7].values\n",
    "y = data.iloc[:,5].values\n",
    "\n",
    "from sklearn.preprocessing import LabelEncoder\n",
    "encoder =  LabelEncoder()\n",
    "y1 = encoder.fit_transform(y)\n",
    "\n",
    "Y = pd.get_dummies(y).values\n",
    "\n",
    "\n",
    "from sklearn.model_selection import train_test_split\n",
    "X_train,X_test, y_train,y_test = train_test_split(X,Y,test_size=0.2,random_state=0)\n",
    "from sklearn.preprocessing import LabelEncoder\n",
    "\n",
    "le=LabelEncoder()\n",
    "\n",
    "for i in data.columns:\n",
    "\n",
    "    data[i]=le.fit_transform(data[i])"
   ]
  },
  {
   "cell_type": "code",
   "execution_count": 10,
   "id": "71901879",
   "metadata": {},
   "outputs": [
    {
     "data": {
      "text/plain": [
       "array([[3, 3, 0, ..., 2, 2, 2],\n",
       "       [3, 3, 0, ..., 2, 0, 2],\n",
       "       [3, 3, 0, ..., 1, 1, 2],\n",
       "       ...,\n",
       "       [1, 1, 3, ..., 0, 1, 2],\n",
       "       [1, 1, 3, ..., 0, 2, 1],\n",
       "       [1, 1, 3, ..., 0, 0, 3]])"
      ]
     },
     "execution_count": 10,
     "metadata": {},
     "output_type": "execute_result"
    }
   ],
   "source": [
    "X"
   ]
  },
  {
   "cell_type": "code",
   "execution_count": 11,
   "id": "95f14217",
   "metadata": {},
   "outputs": [
    {
     "data": {
      "text/plain": [
       "array([[0, 0, 1],\n",
       "       [1, 0, 0],\n",
       "       [0, 1, 0],\n",
       "       ...,\n",
       "       [0, 1, 0],\n",
       "       [0, 0, 1],\n",
       "       [1, 0, 0]], dtype=uint8)"
      ]
     },
     "execution_count": 11,
     "metadata": {},
     "output_type": "execute_result"
    }
   ],
   "source": [
    "Y"
   ]
  },
  {
   "cell_type": "code",
   "execution_count": null,
   "id": "07cf54a2",
   "metadata": {},
   "outputs": [],
   "source": []
  },
  {
   "cell_type": "code",
   "execution_count": 12,
   "id": "eb44dde9",
   "metadata": {},
   "outputs": [
    {
     "name": "stdout",
     "output_type": "stream",
     "text": [
      "Model: \"sequential\"\n",
      "_________________________________________________________________\n",
      " Layer (type)                Output Shape              Param #   \n",
      "=================================================================\n",
      " dense (Dense)               (None, 6)                 48        \n",
      "                                                                 \n",
      " dense_1 (Dense)             (None, 3)                 21        \n",
      "                                                                 \n",
      " dense_2 (Dense)             (None, 3)                 12        \n",
      "                                                                 \n",
      " dense_3 (Dense)             (None, 2)                 8         \n",
      "                                                                 \n",
      "=================================================================\n",
      "Total params: 89\n",
      "Trainable params: 89\n",
      "Non-trainable params: 0\n",
      "_________________________________________________________________\n"
     ]
    },
    {
     "name": "stderr",
     "output_type": "stream",
     "text": [
      "C:\\Users\\wdd45\\anaconda3\\envs\\py37\\lib\\site-packages\\keras\\optimizers\\optimizer_v2\\adam.py:117: UserWarning: The `lr` argument is deprecated, use `learning_rate` instead.\n",
      "  super().__init__(name, **kwargs)\n"
     ]
    }
   ],
   "source": [
    "from keras.models import Sequential\n",
    "from keras.layers import Dense\n",
    "from keras.optimizers import SGD,Adam\n",
    "\n",
    "\n",
    "model = Sequential()\n",
    "\n",
    "model.add(Dense(6,input_shape=(7,),activation='relu'))\n",
    "model.add(Dense(3,activation='relu'))\n",
    "model.add(Dense(3,activation='relu'))\n",
    "model.add(Dense(2,activation='sigmoid'))\n",
    "\n",
    "model.compile(Adam(lr=0.02),'binary_crossentropy',metrics=['accuracy'])\n",
    "\n",
    "model.summary()"
   ]
  },
  {
   "cell_type": "code",
   "execution_count": 13,
   "id": "db8299bf",
   "metadata": {},
   "outputs": [],
   "source": [
    "from keras.utils import to_categorical\n",
    "\n",
    "y_train_encoded = to_categorical(y_train, num_classes=3)\n",
    "y_test_encoded = to_categorical(y_test, num_classes=3)\n"
   ]
  },
  {
   "cell_type": "code",
   "execution_count": 14,
   "id": "a1bc332c",
   "metadata": {},
   "outputs": [
    {
     "name": "stdout",
     "output_type": "stream",
     "text": [
      "Model: \"sequential_1\"\n",
      "_________________________________________________________________\n",
      " Layer (type)                Output Shape              Param #   \n",
      "=================================================================\n",
      " dense_4 (Dense)             (None, 7)                 56        \n",
      "                                                                 \n",
      " dense_5 (Dense)             (None, 3)                 24        \n",
      "                                                                 \n",
      " dense_6 (Dense)             (None, 3)                 12        \n",
      "                                                                 \n",
      " dense_7 (Dense)             (None, 3)                 12        \n",
      "                                                                 \n",
      "=================================================================\n",
      "Total params: 104\n",
      "Trainable params: 104\n",
      "Non-trainable params: 0\n",
      "_________________________________________________________________\n"
     ]
    }
   ],
   "source": [
    "from keras.models import Sequential\n",
    "from keras.layers import Dense\n",
    "from keras.optimizers import SGD,Adam\n",
    "\n",
    "\n",
    "model = Sequential()\n",
    "\n",
    "model.add(Dense(7,input_shape=(7,),activation='relu'))\n",
    "model.add(Dense(3,activation='relu'))\n",
    "model.add(Dense(3,activation='relu'))\n",
    "model.add(Dense(3,activation='sigmoid'))\n",
    "\n",
    "model.compile(Adam(lr=0.02),'binary_crossentropy',metrics=['accuracy'])\n",
    "\n",
    "model.summary()"
   ]
  },
  {
   "cell_type": "code",
   "execution_count": 15,
   "id": "897807bf",
   "metadata": {},
   "outputs": [
    {
     "name": "stdout",
     "output_type": "stream",
     "text": [
      "Epoch 1/100\n",
      "WARNING:tensorflow:AutoGraph could not transform <function Model.make_train_function.<locals>.train_function at 0x0000021BCB60CDC8> and will run it as-is.\n",
      "Please report this to the TensorFlow team. When filing the bug, set the verbosity to 10 (on Linux, `export AUTOGRAPH_VERBOSITY=10`) and attach the full output.\n",
      "Cause: 'arguments' object has no attribute 'posonlyargs'\n",
      "To silence this warning, decorate the function with @tf.autograph.experimental.do_not_convert\n",
      "WARNING: AutoGraph could not transform <function Model.make_train_function.<locals>.train_function at 0x0000021BCB60CDC8> and will run it as-is.\n",
      "Please report this to the TensorFlow team. When filing the bug, set the verbosity to 10 (on Linux, `export AUTOGRAPH_VERBOSITY=10`) and attach the full output.\n",
      "Cause: 'arguments' object has no attribute 'posonlyargs'\n",
      "To silence this warning, decorate the function with @tf.autograph.experimental.do_not_convert\n",
      "42/44 [===========================>..] - ETA: 0s - loss: 0.5117 - accuracy: 0.6116WARNING:tensorflow:AutoGraph could not transform <function Model.make_test_function.<locals>.test_function at 0x0000021BCF4B38B8> and will run it as-is.\n",
      "Please report this to the TensorFlow team. When filing the bug, set the verbosity to 10 (on Linux, `export AUTOGRAPH_VERBOSITY=10`) and attach the full output.\n",
      "Cause: 'arguments' object has no attribute 'posonlyargs'\n",
      "To silence this warning, decorate the function with @tf.autograph.experimental.do_not_convert\n",
      "WARNING: AutoGraph could not transform <function Model.make_test_function.<locals>.test_function at 0x0000021BCF4B38B8> and will run it as-is.\n",
      "Please report this to the TensorFlow team. When filing the bug, set the verbosity to 10 (on Linux, `export AUTOGRAPH_VERBOSITY=10`) and attach the full output.\n",
      "Cause: 'arguments' object has no attribute 'posonlyargs'\n",
      "To silence this warning, decorate the function with @tf.autograph.experimental.do_not_convert\n",
      "44/44 [==============================] - 1s 10ms/step - loss: 0.5070 - accuracy: 0.6162 - val_loss: 0.4168 - val_accuracy: 0.7717\n",
      "Epoch 2/100\n",
      "44/44 [==============================] - 0s 4ms/step - loss: 0.3276 - accuracy: 0.9500 - val_loss: 0.2553 - val_accuracy: 1.0000\n",
      "Epoch 3/100\n",
      "44/44 [==============================] - 0s 4ms/step - loss: 0.1499 - accuracy: 0.9986 - val_loss: 0.1019 - val_accuracy: 1.0000\n",
      "Epoch 4/100\n",
      "44/44 [==============================] - 0s 4ms/step - loss: 0.0682 - accuracy: 1.0000 - val_loss: 0.0600 - val_accuracy: 1.0000\n",
      "Epoch 5/100\n",
      "44/44 [==============================] - 0s 5ms/step - loss: 0.0432 - accuracy: 1.0000 - val_loss: 0.0413 - val_accuracy: 1.0000\n",
      "Epoch 6/100\n",
      "44/44 [==============================] - 0s 5ms/step - loss: 0.0311 - accuracy: 1.0000 - val_loss: 0.0309 - val_accuracy: 1.0000\n",
      "Epoch 7/100\n",
      "44/44 [==============================] - 0s 5ms/step - loss: 0.0240 - accuracy: 1.0000 - val_loss: 0.0245 - val_accuracy: 1.0000\n",
      "Epoch 8/100\n",
      "44/44 [==============================] - 0s 4ms/step - loss: 0.0193 - accuracy: 1.0000 - val_loss: 0.0199 - val_accuracy: 1.0000\n",
      "Epoch 9/100\n",
      "44/44 [==============================] - 0s 5ms/step - loss: 0.0159 - accuracy: 1.0000 - val_loss: 0.0167 - val_accuracy: 1.0000\n",
      "Epoch 10/100\n",
      "44/44 [==============================] - 0s 5ms/step - loss: 0.0135 - accuracy: 1.0000 - val_loss: 0.0143 - val_accuracy: 1.0000\n",
      "Epoch 11/100\n",
      "44/44 [==============================] - 0s 5ms/step - loss: 0.0115 - accuracy: 1.0000 - val_loss: 0.0123 - val_accuracy: 1.0000\n",
      "Epoch 12/100\n",
      "44/44 [==============================] - 0s 5ms/step - loss: 0.0100 - accuracy: 1.0000 - val_loss: 0.0108 - val_accuracy: 1.0000\n",
      "Epoch 13/100\n",
      "44/44 [==============================] - 0s 5ms/step - loss: 0.0088 - accuracy: 1.0000 - val_loss: 0.0095 - val_accuracy: 1.0000\n",
      "Epoch 14/100\n",
      "44/44 [==============================] - 0s 5ms/step - loss: 0.0078 - accuracy: 1.0000 - val_loss: 0.0085 - val_accuracy: 1.0000\n",
      "Epoch 15/100\n",
      "44/44 [==============================] - 0s 6ms/step - loss: 0.0070 - accuracy: 1.0000 - val_loss: 0.0076 - val_accuracy: 1.0000\n",
      "Epoch 16/100\n",
      "44/44 [==============================] - 0s 4ms/step - loss: 0.0063 - accuracy: 1.0000 - val_loss: 0.0069 - val_accuracy: 1.0000\n",
      "Epoch 17/100\n",
      "44/44 [==============================] - 0s 4ms/step - loss: 0.0057 - accuracy: 1.0000 - val_loss: 0.0062 - val_accuracy: 1.0000\n",
      "Epoch 18/100\n",
      "44/44 [==============================] - 0s 4ms/step - loss: 0.0052 - accuracy: 1.0000 - val_loss: 0.0057 - val_accuracy: 1.0000\n",
      "Epoch 19/100\n",
      "44/44 [==============================] - 0s 5ms/step - loss: 0.0048 - accuracy: 1.0000 - val_loss: 0.0052 - val_accuracy: 1.0000\n",
      "Epoch 20/100\n",
      "44/44 [==============================] - 0s 5ms/step - loss: 0.0044 - accuracy: 1.0000 - val_loss: 0.0048 - val_accuracy: 1.0000\n",
      "Epoch 21/100\n",
      "44/44 [==============================] - 0s 5ms/step - loss: 0.0040 - accuracy: 1.0000 - val_loss: 0.0044 - val_accuracy: 1.0000\n",
      "Epoch 22/100\n",
      "44/44 [==============================] - 0s 5ms/step - loss: 0.0037 - accuracy: 1.0000 - val_loss: 0.0041 - val_accuracy: 1.0000\n",
      "Epoch 23/100\n",
      "44/44 [==============================] - 0s 5ms/step - loss: 0.0035 - accuracy: 1.0000 - val_loss: 0.0038 - val_accuracy: 1.0000\n",
      "Epoch 24/100\n",
      "44/44 [==============================] - 0s 5ms/step - loss: 0.0032 - accuracy: 1.0000 - val_loss: 0.0036 - val_accuracy: 1.0000\n",
      "Epoch 25/100\n",
      "44/44 [==============================] - 0s 6ms/step - loss: 0.0030 - accuracy: 1.0000 - val_loss: 0.0033 - val_accuracy: 1.0000\n",
      "Epoch 26/100\n",
      "44/44 [==============================] - 0s 6ms/step - loss: 0.0028 - accuracy: 1.0000 - val_loss: 0.0031 - val_accuracy: 1.0000\n",
      "Epoch 27/100\n",
      "44/44 [==============================] - 0s 4ms/step - loss: 0.0026 - accuracy: 1.0000 - val_loss: 0.0029 - val_accuracy: 1.0000\n",
      "Epoch 28/100\n",
      "44/44 [==============================] - 0s 4ms/step - loss: 0.0025 - accuracy: 1.0000 - val_loss: 0.0028 - val_accuracy: 1.0000\n",
      "Epoch 29/100\n",
      "44/44 [==============================] - 0s 4ms/step - loss: 0.0023 - accuracy: 1.0000 - val_loss: 0.0026 - val_accuracy: 1.0000\n",
      "Epoch 30/100\n",
      "44/44 [==============================] - 0s 4ms/step - loss: 0.0022 - accuracy: 1.0000 - val_loss: 0.0024 - val_accuracy: 1.0000\n",
      "Epoch 31/100\n",
      "44/44 [==============================] - 0s 4ms/step - loss: 0.0021 - accuracy: 1.0000 - val_loss: 0.0023 - val_accuracy: 1.0000\n",
      "Epoch 32/100\n",
      "44/44 [==============================] - 0s 4ms/step - loss: 0.0020 - accuracy: 1.0000 - val_loss: 0.0022 - val_accuracy: 1.0000\n",
      "Epoch 33/100\n",
      "44/44 [==============================] - 0s 4ms/step - loss: 0.0019 - accuracy: 1.0000 - val_loss: 0.0021 - val_accuracy: 1.0000\n",
      "Epoch 34/100\n",
      "44/44 [==============================] - 0s 3ms/step - loss: 0.0018 - accuracy: 1.0000 - val_loss: 0.0020 - val_accuracy: 1.0000\n",
      "Epoch 35/100\n",
      "44/44 [==============================] - 0s 3ms/step - loss: 0.0017 - accuracy: 1.0000 - val_loss: 0.0019 - val_accuracy: 1.0000\n",
      "Epoch 36/100\n",
      "44/44 [==============================] - 0s 3ms/step - loss: 0.0016 - accuracy: 1.0000 - val_loss: 0.0018 - val_accuracy: 1.0000\n",
      "Epoch 37/100\n",
      "44/44 [==============================] - 0s 3ms/step - loss: 0.0015 - accuracy: 1.0000 - val_loss: 0.0017 - val_accuracy: 1.0000\n",
      "Epoch 38/100\n",
      "44/44 [==============================] - 0s 5ms/step - loss: 0.0014 - accuracy: 1.0000 - val_loss: 0.0016 - val_accuracy: 1.0000\n",
      "Epoch 39/100\n",
      "44/44 [==============================] - 0s 4ms/step - loss: 0.0014 - accuracy: 1.0000 - val_loss: 0.0015 - val_accuracy: 1.0000\n",
      "Epoch 40/100\n",
      "44/44 [==============================] - 0s 3ms/step - loss: 0.0013 - accuracy: 1.0000 - val_loss: 0.0015 - val_accuracy: 1.0000\n",
      "Epoch 41/100\n",
      "44/44 [==============================] - 0s 3ms/step - loss: 0.0013 - accuracy: 1.0000 - val_loss: 0.0014 - val_accuracy: 1.0000\n",
      "Epoch 42/100\n",
      "44/44 [==============================] - 0s 3ms/step - loss: 0.0012 - accuracy: 1.0000 - val_loss: 0.0013 - val_accuracy: 1.0000\n",
      "Epoch 43/100\n",
      "44/44 [==============================] - 0s 3ms/step - loss: 0.0011 - accuracy: 1.0000 - val_loss: 0.0013 - val_accuracy: 1.0000\n",
      "Epoch 44/100\n",
      "44/44 [==============================] - 0s 3ms/step - loss: 0.0011 - accuracy: 1.0000 - val_loss: 0.0012 - val_accuracy: 1.0000\n",
      "Epoch 45/100\n"
     ]
    },
    {
     "name": "stdout",
     "output_type": "stream",
     "text": [
      "44/44 [==============================] - 0s 3ms/step - loss: 0.0011 - accuracy: 1.0000 - val_loss: 0.0012 - val_accuracy: 1.0000\n",
      "Epoch 46/100\n",
      "44/44 [==============================] - 0s 3ms/step - loss: 0.0010 - accuracy: 1.0000 - val_loss: 0.0011 - val_accuracy: 1.0000\n",
      "Epoch 47/100\n",
      "44/44 [==============================] - 0s 2ms/step - loss: 9.7224e-04 - accuracy: 1.0000 - val_loss: 0.0011 - val_accuracy: 1.0000\n",
      "Epoch 48/100\n",
      "44/44 [==============================] - 0s 2ms/step - loss: 9.3399e-04 - accuracy: 1.0000 - val_loss: 0.0011 - val_accuracy: 1.0000\n",
      "Epoch 49/100\n",
      "44/44 [==============================] - 0s 3ms/step - loss: 8.9715e-04 - accuracy: 1.0000 - val_loss: 0.0010 - val_accuracy: 1.0000\n",
      "Epoch 50/100\n",
      "44/44 [==============================] - 0s 3ms/step - loss: 8.6178e-04 - accuracy: 1.0000 - val_loss: 9.7119e-04 - val_accuracy: 1.0000\n",
      "Epoch 51/100\n",
      "44/44 [==============================] - 0s 3ms/step - loss: 8.2826e-04 - accuracy: 1.0000 - val_loss: 9.3460e-04 - val_accuracy: 1.0000\n",
      "Epoch 52/100\n",
      "44/44 [==============================] - 0s 3ms/step - loss: 7.9743e-04 - accuracy: 1.0000 - val_loss: 8.9978e-04 - val_accuracy: 1.0000\n",
      "Epoch 53/100\n",
      "44/44 [==============================] - 0s 3ms/step - loss: 7.6791e-04 - accuracy: 1.0000 - val_loss: 8.6675e-04 - val_accuracy: 1.0000\n",
      "Epoch 54/100\n",
      "44/44 [==============================] - 0s 3ms/step - loss: 7.4001e-04 - accuracy: 1.0000 - val_loss: 8.3570e-04 - val_accuracy: 1.0000\n",
      "Epoch 55/100\n",
      "44/44 [==============================] - 0s 2ms/step - loss: 7.1378e-04 - accuracy: 1.0000 - val_loss: 8.0667e-04 - val_accuracy: 1.0000\n",
      "Epoch 56/100\n",
      "44/44 [==============================] - 0s 3ms/step - loss: 6.8853e-04 - accuracy: 1.0000 - val_loss: 7.7811e-04 - val_accuracy: 1.0000\n",
      "Epoch 57/100\n",
      "44/44 [==============================] - 0s 3ms/step - loss: 6.6456e-04 - accuracy: 1.0000 - val_loss: 7.5078e-04 - val_accuracy: 1.0000\n",
      "Epoch 58/100\n",
      "44/44 [==============================] - 0s 3ms/step - loss: 6.4171e-04 - accuracy: 1.0000 - val_loss: 7.2528e-04 - val_accuracy: 1.0000\n",
      "Epoch 59/100\n",
      "44/44 [==============================] - 0s 3ms/step - loss: 6.1954e-04 - accuracy: 1.0000 - val_loss: 7.0077e-04 - val_accuracy: 1.0000\n",
      "Epoch 60/100\n",
      "44/44 [==============================] - 0s 2ms/step - loss: 5.9884e-04 - accuracy: 1.0000 - val_loss: 6.7713e-04 - val_accuracy: 1.0000\n",
      "Epoch 61/100\n",
      "44/44 [==============================] - 0s 3ms/step - loss: 5.7858e-04 - accuracy: 1.0000 - val_loss: 6.5427e-04 - val_accuracy: 1.0000\n",
      "Epoch 62/100\n",
      "44/44 [==============================] - 0s 3ms/step - loss: 5.5937e-04 - accuracy: 1.0000 - val_loss: 6.3281e-04 - val_accuracy: 1.0000\n",
      "Epoch 63/100\n",
      "44/44 [==============================] - 0s 3ms/step - loss: 5.4098e-04 - accuracy: 1.0000 - val_loss: 6.1181e-04 - val_accuracy: 1.0000\n",
      "Epoch 64/100\n",
      "44/44 [==============================] - 0s 3ms/step - loss: 5.2319e-04 - accuracy: 1.0000 - val_loss: 5.9235e-04 - val_accuracy: 1.0000\n",
      "Epoch 65/100\n",
      "44/44 [==============================] - 0s 3ms/step - loss: 5.0636e-04 - accuracy: 1.0000 - val_loss: 5.7299e-04 - val_accuracy: 1.0000\n",
      "Epoch 66/100\n",
      "44/44 [==============================] - 0s 3ms/step - loss: 4.8991e-04 - accuracy: 1.0000 - val_loss: 5.5456e-04 - val_accuracy: 1.0000\n",
      "Epoch 67/100\n",
      "44/44 [==============================] - 0s 3ms/step - loss: 4.7413e-04 - accuracy: 1.0000 - val_loss: 5.3629e-04 - val_accuracy: 1.0000\n",
      "Epoch 68/100\n",
      "44/44 [==============================] - 0s 4ms/step - loss: 4.5896e-04 - accuracy: 1.0000 - val_loss: 5.1964e-04 - val_accuracy: 1.0000\n",
      "Epoch 69/100\n",
      "44/44 [==============================] - 0s 3ms/step - loss: 4.4472e-04 - accuracy: 1.0000 - val_loss: 5.0336e-04 - val_accuracy: 1.0000\n",
      "Epoch 70/100\n",
      "44/44 [==============================] - 0s 3ms/step - loss: 4.3065e-04 - accuracy: 1.0000 - val_loss: 4.8753e-04 - val_accuracy: 1.0000\n",
      "Epoch 71/100\n",
      "44/44 [==============================] - 0s 3ms/step - loss: 4.1726e-04 - accuracy: 1.0000 - val_loss: 4.7262e-04 - val_accuracy: 1.0000\n",
      "Epoch 72/100\n",
      "44/44 [==============================] - 0s 3ms/step - loss: 4.0453e-04 - accuracy: 1.0000 - val_loss: 4.5804e-04 - val_accuracy: 1.0000\n",
      "Epoch 73/100\n",
      "44/44 [==============================] - 0s 3ms/step - loss: 3.9207e-04 - accuracy: 1.0000 - val_loss: 4.4419e-04 - val_accuracy: 1.0000\n",
      "Epoch 74/100\n",
      "44/44 [==============================] - 0s 3ms/step - loss: 3.8042e-04 - accuracy: 1.0000 - val_loss: 4.3138e-04 - val_accuracy: 1.0000\n",
      "Epoch 75/100\n",
      "44/44 [==============================] - 0s 3ms/step - loss: 3.6912e-04 - accuracy: 1.0000 - val_loss: 4.1859e-04 - val_accuracy: 1.0000\n",
      "Epoch 76/100\n",
      "44/44 [==============================] - 0s 3ms/step - loss: 3.5825e-04 - accuracy: 1.0000 - val_loss: 4.0579e-04 - val_accuracy: 1.0000\n",
      "Epoch 77/100\n",
      "44/44 [==============================] - 0s 3ms/step - loss: 3.4762e-04 - accuracy: 1.0000 - val_loss: 3.9373e-04 - val_accuracy: 1.0000\n",
      "Epoch 78/100\n",
      "44/44 [==============================] - 0s 3ms/step - loss: 3.3756e-04 - accuracy: 1.0000 - val_loss: 3.8259e-04 - val_accuracy: 1.0000\n",
      "Epoch 79/100\n",
      "44/44 [==============================] - 0s 3ms/step - loss: 3.2792e-04 - accuracy: 1.0000 - val_loss: 3.7196e-04 - val_accuracy: 1.0000\n",
      "Epoch 80/100\n",
      "44/44 [==============================] - 0s 3ms/step - loss: 3.1845e-04 - accuracy: 1.0000 - val_loss: 3.6094e-04 - val_accuracy: 1.0000\n",
      "Epoch 81/100\n",
      "44/44 [==============================] - 0s 3ms/step - loss: 3.0920e-04 - accuracy: 1.0000 - val_loss: 3.5049e-04 - val_accuracy: 1.0000\n",
      "Epoch 82/100\n",
      "44/44 [==============================] - 0s 3ms/step - loss: 3.0018e-04 - accuracy: 1.0000 - val_loss: 3.4029e-04 - val_accuracy: 1.0000\n",
      "Epoch 83/100\n",
      "44/44 [==============================] - 0s 3ms/step - loss: 2.9183e-04 - accuracy: 1.0000 - val_loss: 3.3094e-04 - val_accuracy: 1.0000\n",
      "Epoch 84/100\n",
      "44/44 [==============================] - 0s 3ms/step - loss: 2.8356e-04 - accuracy: 1.0000 - val_loss: 3.2175e-04 - val_accuracy: 1.0000\n",
      "Epoch 85/100\n",
      "44/44 [==============================] - 0s 3ms/step - loss: 2.7558e-04 - accuracy: 1.0000 - val_loss: 3.1252e-04 - val_accuracy: 1.0000\n",
      "Epoch 86/100\n",
      "44/44 [==============================] - 0s 3ms/step - loss: 2.6788e-04 - accuracy: 1.0000 - val_loss: 3.0382e-04 - val_accuracy: 1.0000\n",
      "Epoch 87/100\n",
      "44/44 [==============================] - 0s 3ms/step - loss: 2.6052e-04 - accuracy: 1.0000 - val_loss: 2.9555e-04 - val_accuracy: 1.0000\n",
      "Epoch 88/100\n",
      "44/44 [==============================] - 0s 3ms/step - loss: 2.5335e-04 - accuracy: 1.0000 - val_loss: 2.8750e-04 - val_accuracy: 1.0000\n",
      "Epoch 89/100\n",
      "44/44 [==============================] - 0s 3ms/step - loss: 2.4643e-04 - accuracy: 1.0000 - val_loss: 2.7946e-04 - val_accuracy: 1.0000\n",
      "Epoch 90/100\n",
      "44/44 [==============================] - 0s 3ms/step - loss: 2.3979e-04 - accuracy: 1.0000 - val_loss: 2.7212e-04 - val_accuracy: 1.0000\n",
      "Epoch 91/100\n",
      "44/44 [==============================] - 0s 3ms/step - loss: 2.3337e-04 - accuracy: 1.0000 - val_loss: 2.6481e-04 - val_accuracy: 1.0000\n",
      "Epoch 92/100\n",
      "44/44 [==============================] - 0s 3ms/step - loss: 2.2718e-04 - accuracy: 1.0000 - val_loss: 2.5785e-04 - val_accuracy: 1.0000\n",
      "Epoch 93/100\n",
      "44/44 [==============================] - 0s 3ms/step - loss: 2.2121e-04 - accuracy: 1.0000 - val_loss: 2.5114e-04 - val_accuracy: 1.0000\n",
      "Epoch 94/100\n",
      "44/44 [==============================] - 0s 3ms/step - loss: 2.1539e-04 - accuracy: 1.0000 - val_loss: 2.4441e-04 - val_accuracy: 1.0000\n",
      "Epoch 95/100\n",
      "44/44 [==============================] - 0s 5ms/step - loss: 2.0974e-04 - accuracy: 1.0000 - val_loss: 2.3801e-04 - val_accuracy: 1.0000\n",
      "Epoch 96/100\n",
      "44/44 [==============================] - 0s 4ms/step - loss: 2.0426e-04 - accuracy: 1.0000 - val_loss: 2.3195e-04 - val_accuracy: 1.0000\n",
      "Epoch 97/100\n",
      "44/44 [==============================] - 0s 3ms/step - loss: 1.9897e-04 - accuracy: 1.0000 - val_loss: 2.2583e-04 - val_accuracy: 1.0000\n",
      "Epoch 98/100\n",
      "44/44 [==============================] - 0s 4ms/step - loss: 1.9380e-04 - accuracy: 1.0000 - val_loss: 2.2010e-04 - val_accuracy: 1.0000\n",
      "Epoch 99/100\n",
      "44/44 [==============================] - 0s 5ms/step - loss: 1.8869e-04 - accuracy: 1.0000 - val_loss: 2.1424e-04 - val_accuracy: 1.0000\n"
     ]
    },
    {
     "name": "stdout",
     "output_type": "stream",
     "text": [
      "Epoch 100/100\n",
      "44/44 [==============================] - 0s 3ms/step - loss: 1.8376e-04 - accuracy: 1.0000 - val_loss: 2.0855e-04 - val_accuracy: 1.0000\n",
      "WARNING:tensorflow:AutoGraph could not transform <function Model.make_predict_function.<locals>.predict_function at 0x0000021BCF31EDC8> and will run it as-is.\n",
      "Please report this to the TensorFlow team. When filing the bug, set the verbosity to 10 (on Linux, `export AUTOGRAPH_VERBOSITY=10`) and attach the full output.\n",
      "Cause: 'arguments' object has no attribute 'posonlyargs'\n",
      "To silence this warning, decorate the function with @tf.autograph.experimental.do_not_convert\n",
      "WARNING: AutoGraph could not transform <function Model.make_predict_function.<locals>.predict_function at 0x0000021BCF31EDC8> and will run it as-is.\n",
      "Please report this to the TensorFlow team. When filing the bug, set the verbosity to 10 (on Linux, `export AUTOGRAPH_VERBOSITY=10`) and attach the full output.\n",
      "Cause: 'arguments' object has no attribute 'posonlyargs'\n",
      "To silence this warning, decorate the function with @tf.autograph.experimental.do_not_convert\n",
      "11/11 [==============================] - 0s 1ms/step\n"
     ]
    }
   ],
   "source": [
    "model_history=model.fit(x=X_train, y=y_train, epochs=100, batch_size=32,validation_data= (X_test,y_test))\n",
    "y_pred = model.predict(X_test)\n",
    "\n",
    "y_test_class = np.argmax(y_test,axis=1)\n",
    "y_pred_class = np.argmax(y_pred,axis=1)"
   ]
  },
  {
   "cell_type": "code",
   "execution_count": 16,
   "id": "4810dd8c",
   "metadata": {},
   "outputs": [
    {
     "data": {
      "image/png": "[encoded data removed]",
      "text/plain": [
       "<Figure size 640x480 with 1 Axes>"
      ]
     },
     "metadata": {},
     "output_type": "display_data"
    }
   ],
   "source": [
    "import matplotlib.pyplot as plt\n",
    "import seaborn as sns\n",
    "\n",
    "loss =model_history.history['loss']\n",
    "val_loss =model_history.history['val_loss']\n",
    "epochs = range(1, len(loss) + 1)\n",
    "plt.plot(epochs, loss, 'y', label='Training loss')\n",
    "plt.plot(epochs, val_loss, 'r', label='Validation loss')\n",
    "plt.title('Training and validation loss')\n",
    "plt.xlabel('Epochs')\n",
    "plt.ylabel('Loss')\n",
    "plt.legend()\n",
    "plt.show()"
   ]
  },
  {
   "cell_type": "code",
   "execution_count": 17,
   "id": "dc89eb95",
   "metadata": {},
   "outputs": [
    {
     "data": {
      "image/png": "[encoded data removed]",
      "text/plain": [
       "<Figure size 640x480 with 1 Axes>"
      ]
     },
     "metadata": {},
     "output_type": "display_data"
    }
   ],
   "source": [
    "acc =model_history.history['accuracy']\n",
    "val_acc =model_history.history['val_accuracy']\n",
    "plt.plot(epochs, acc, 'y', label='Training acc')\n",
    "plt.plot(epochs, val_acc, 'r', label='Validation acc')\n",
    "plt.title('Training and validation accuracy')\n",
    "plt.xlabel('Epochs')\n",
    "plt.ylabel('Accuracy')\n",
    "plt.legend()\n",
    "plt.show()"
   ]
  },
  {
   "cell_type": "code",
   "execution_count": 18,
   "id": "81a764d1",
   "metadata": {},
   "outputs": [
    {
     "name": "stdout",
     "output_type": "stream",
     "text": [
      "              precision    recall  f1-score   support\n",
      "\n",
      "           0       1.00      1.00      1.00       129\n",
      "           1       1.00      1.00      1.00       118\n",
      "           2       1.00      1.00      1.00        99\n",
      "\n",
      "    accuracy                           1.00       346\n",
      "   macro avg       1.00      1.00      1.00       346\n",
      "weighted avg       1.00      1.00      1.00       346\n",
      "\n",
      "[[129   0   0]\n",
      " [  0 118   0]\n",
      " [  0   0  99]]\n"
     ]
    }
   ],
   "source": [
    "#Accuracy of the predicted values\n",
    "from sklearn.metrics import classification_report,confusion_matrix\n",
    "print(classification_report(y_test_class,y_pred_class))\n",
    "print(confusion_matrix(y_test_class,y_pred_class))"
   ]
  },
  {
   "cell_type": "code",
   "execution_count": null,
   "id": "abc0e2fb",
   "metadata": {},
   "outputs": [],
   "source": []
  },
  {
   "cell_type": "code",
   "execution_count": null,
   "id": "b5c48236",
   "metadata": {},
   "outputs": [],
   "source": []
  }
 ],
 "metadata": {
  "kernelspec": {
   "display_name": "Python 3 (ipykernel)",
   "language": "python",
   "name": "python3"
  },
  "language_info": {
   "codemirror_mode": {
    "name": "ipython",
    "version": 3
   },
   "file_extension": ".py",
   "mimetype": "text/x-python",
   "name": "python",
   "nbconvert_exporter": "python",
   "pygments_lexer": "ipython3",
   "version": "3.7.16"
  }
 },
 "nbformat": 4,
 "nbformat_minor": 5
}
