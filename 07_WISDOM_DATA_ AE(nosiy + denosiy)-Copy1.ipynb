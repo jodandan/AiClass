{
 "cells": [
  {
   "cell_type": "code",
   "execution_count": 16,
   "id": "2c4acf05",
   "metadata": {},
   "outputs": [],
   "source": [
    "import pandas as pd\n",
    "import numpy as np\n",
    "import matplotlib.pyplot as plt\n",
    "from sklearn.model_selection import train_test_split\n",
    "from sklearn.preprocessing import LabelEncoder\n",
    "from keras.models import Model\n",
    "from keras.layers import Input, Dense\n",
    "from keras.callbacks import ModelCheckpoint, TensorBoard\n",
    "from keras import regularizers\n",
    "\n",
    "# Define the path to the CSV file\n",
    "data_file_path = \"C:/Users/wdd45/OneDrive/바탕 화면/딥러닝응용/WISDM.csv\"\n",
    "\n",
    "# Load the data from the CSV file\n",
    "data = pd.read_csv(data_file_path)"
   ]
  },
  {
   "cell_type": "code",
   "execution_count": 17,
   "id": "162f60fe",
   "metadata": {},
   "outputs": [],
   "source": [
    "# Balance data for 'Sitting' and 'Jogging'\n",
    "sitting_data = data[data['activity'] == 'Sitting'].head(4500).copy()\n",
    "jogging_data = data[data['activity'] == 'Jogging'].head(4500).copy()\n"
   ]
  },
  {
   "cell_type": "code",
   "execution_count": 18,
   "id": "7119db2a",
   "metadata": {},
   "outputs": [],
   "source": [
    "# Concatenate the balanced data\n",
    "balanced_data = pd.concat([sitting_data, jogging_data])\n"
   ]
  },
  {
   "cell_type": "code",
   "execution_count": 19,
   "id": "b7d06ad6",
   "metadata": {},
   "outputs": [],
   "source": [
    "# Encode the 'activity' column using LabelEncoder\n",
    "label_encoder = LabelEncoder()\n",
    "balanced_data['activity'] = label_encoder.fit_transform(balanced_data['activity'])\n"
   ]
  },
  {
   "cell_type": "code",
   "execution_count": 20,
   "id": "f3200d34",
   "metadata": {},
   "outputs": [],
   "source": [
    "# Select only the specified columns\n",
    "selected_columns = ['activity', 'X', 'Y', 'Z']\n",
    "balanced_data = balanced_data[selected_columns]\n"
   ]
  },
  {
   "cell_type": "code",
   "execution_count": 21,
   "id": "e3e97abe",
   "metadata": {},
   "outputs": [],
   "source": [
    "# Split the data into training and testing sets\n",
    "X_train, X_test = train_test_split(balanced_data, test_size=0.25, random_state=42)\n"
   ]
  },
  {
   "cell_type": "code",
   "execution_count": 22,
   "id": "229b64b1",
   "metadata": {},
   "outputs": [],
   "source": [
    "# Separate 'Normal' data for training\n",
    "normal = X_train[X_train['activity'] == 0]\n",
    "y_train = normal['activity']\n",
    "X_train_normal_train = normal.drop(['activity'], axis=1)\n"
   ]
  },
  {
   "cell_type": "code",
   "execution_count": 23,
   "id": "7a1b406e",
   "metadata": {},
   "outputs": [],
   "source": [
    "# Separate target and features for testing\n",
    "y_test = X_test['activity']\n",
    "X_test = X_test.drop(['activity'], axis=1).values\n"
   ]
  },
  {
   "cell_type": "code",
   "execution_count": 24,
   "id": "05569214",
   "metadata": {},
   "outputs": [],
   "source": [
    "# Add noise to the training and testing sets\n",
    "noise_factor = 0.5\n",
    "X_train_noisy = X_train_normal_train + noise_factor * np.random.normal(loc=0.0, scale=1.0, size=X_train_normal_train.shape)\n",
    "X_test_noisy = X_test + noise_factor * np.random.normal(loc=0.0, scale=1.0, size=X_test.shape)\n"
   ]
  },
  {
   "cell_type": "code",
   "execution_count": 25,
   "id": "671b05b0",
   "metadata": {},
   "outputs": [],
   "source": [
    "# Clip the values to be in the range [0, 1]\n",
    "X_train_noisy = np.clip(X_train_noisy, 0., 1.)\n",
    "X_test_noisy = np.clip(X_test_noisy, 0., 1.)\n"
   ]
  },
  {
   "cell_type": "code",
   "execution_count": 26,
   "id": "9ff2ba7a",
   "metadata": {},
   "outputs": [],
   "source": [
    "# Model Training\n",
    "input_dim = X_train_normal_train.shape[1]\n",
    "encoding_dim = 14\n"
   ]
  },
  {
   "cell_type": "code",
   "execution_count": 27,
   "id": "c030456f",
   "metadata": {},
   "outputs": [],
   "source": [
    "input_layer = Input(shape=(input_dim,))\n",
    "encoder = Dense(encoding_dim, activation=\"tanh\", activity_regularizer=regularizers.l1(10e-5))(input_layer)\n",
    "encoder = Dense(int(encoding_dim / 2), activation=\"relu\")(encoder)\n",
    "decoder = Dense(int(encoding_dim / 2), activation='tanh')(encoder)\n",
    "decoder = Dense(input_dim, activation='relu')(decoder)\n",
    "autoencoder = Model(inputs=input_layer, outputs=decoder)"
   ]
  },
  {
   "cell_type": "code",
   "execution_count": 28,
   "id": "162212fb",
   "metadata": {},
   "outputs": [],
   "source": [
    "nb_epoch = 100\n",
    "batch_size = 32\n"
   ]
  },
  {
   "cell_type": "code",
   "execution_count": 29,
   "id": "7feb8493",
   "metadata": {},
   "outputs": [],
   "source": [
    "autoencoder.compile(optimizer='adam', loss='mean_squared_error', metrics=['accuracy'])\n"
   ]
  },
  {
   "cell_type": "code",
   "execution_count": 30,
   "id": "5be8a412",
   "metadata": {},
   "outputs": [],
   "source": [
    "checkpointer = ModelCheckpoint(filepath=\"model.h5\", verbose=0, save_best_only=True)\n",
    "tensorboard = TensorBoard(log_dir='./logs', histogram_freq=0, write_graph=True, write_images=True)\n"
   ]
  },
  {
   "cell_type": "code",
   "execution_count": 31,
   "id": "04d0ee9d",
   "metadata": {},
   "outputs": [
    {
     "name": "stdout",
     "output_type": "stream",
     "text": [
      "Epoch 1/100\n",
      "WARNING:tensorflow:AutoGraph could not transform <function Model.make_train_function.<locals>.train_function at 0x000001EBED347CA8> and will run it as-is.\n",
      "Please report this to the TensorFlow team. When filing the bug, set the verbosity to 10 (on Linux, `export AUTOGRAPH_VERBOSITY=10`) and attach the full output.\n",
      "Cause: 'arguments' object has no attribute 'posonlyargs'\n",
      "To silence this warning, decorate the function with @tf.autograph.experimental.do_not_convert\n",
      "WARNING: AutoGraph could not transform <function Model.make_train_function.<locals>.train_function at 0x000001EBED347CA8> and will run it as-is.\n",
      "Please report this to the TensorFlow team. When filing the bug, set the verbosity to 10 (on Linux, `export AUTOGRAPH_VERBOSITY=10`) and attach the full output.\n",
      "Cause: 'arguments' object has no attribute 'posonlyargs'\n",
      "To silence this warning, decorate the function with @tf.autograph.experimental.do_not_convert\n",
      " 92/106 [=========================>....] - ETA: 0s - loss: 66.7948 - accuracy: 0.4660WARNING:tensorflow:AutoGraph could not transform <function Model.make_test_function.<locals>.test_function at 0x000001EBED5B1E58> and will run it as-is.\n",
      "Please report this to the TensorFlow team. When filing the bug, set the verbosity to 10 (on Linux, `export AUTOGRAPH_VERBOSITY=10`) and attach the full output.\n",
      "Cause: 'arguments' object has no attribute 'posonlyargs'\n",
      "To silence this warning, decorate the function with @tf.autograph.experimental.do_not_convert\n",
      "WARNING: AutoGraph could not transform <function Model.make_test_function.<locals>.test_function at 0x000001EBED5B1E58> and will run it as-is.\n",
      "Please report this to the TensorFlow team. When filing the bug, set the verbosity to 10 (on Linux, `export AUTOGRAPH_VERBOSITY=10`) and attach the full output.\n",
      "Cause: 'arguments' object has no attribute 'posonlyargs'\n",
      "To silence this warning, decorate the function with @tf.autograph.experimental.do_not_convert\n",
      "106/106 [==============================] - 2s 8ms/step - loss: 66.1955 - accuracy: 0.4950 - val_loss: 44.3324 - val_accuracy: 0.5844\n",
      "Epoch 2/100\n",
      "106/106 [==============================] - 1s 6ms/step - loss: 54.2456 - accuracy: 0.6737 - val_loss: 38.3217 - val_accuracy: 0.5844\n",
      "Epoch 3/100\n",
      "106/106 [==============================] - 1s 5ms/step - loss: 45.9436 - accuracy: 0.6743 - val_loss: 35.5044 - val_accuracy: 0.5996\n",
      "Epoch 4/100\n",
      "106/106 [==============================] - 0s 5ms/step - loss: 41.1894 - accuracy: 0.7043 - val_loss: 32.8274 - val_accuracy: 0.5844\n",
      "Epoch 5/100\n",
      "106/106 [==============================] - 0s 5ms/step - loss: 38.0852 - accuracy: 0.7072 - val_loss: 27.4569 - val_accuracy: 0.6009\n",
      "Epoch 6/100\n",
      "106/106 [==============================] - 0s 5ms/step - loss: 35.3989 - accuracy: 0.7369 - val_loss: 25.3969 - val_accuracy: 0.6262\n",
      "Epoch 7/100\n",
      "106/106 [==============================] - 0s 5ms/step - loss: 33.0688 - accuracy: 0.7577 - val_loss: 24.0734 - val_accuracy: 0.6258\n",
      "Epoch 8/100\n",
      "106/106 [==============================] - 0s 5ms/step - loss: 31.1703 - accuracy: 0.7589 - val_loss: 23.0640 - val_accuracy: 0.6267\n",
      "Epoch 9/100\n",
      "106/106 [==============================] - 0s 5ms/step - loss: 29.6994 - accuracy: 0.7598 - val_loss: 22.3558 - val_accuracy: 0.6267\n",
      "Epoch 10/100\n",
      "106/106 [==============================] - 0s 4ms/step - loss: 28.5407 - accuracy: 0.7625 - val_loss: 21.8244 - val_accuracy: 0.6276\n",
      "Epoch 11/100\n",
      "106/106 [==============================] - 0s 4ms/step - loss: 27.6120 - accuracy: 0.7645 - val_loss: 21.4080 - val_accuracy: 0.6280\n",
      "Epoch 12/100\n",
      "106/106 [==============================] - 0s 4ms/step - loss: 26.8571 - accuracy: 0.7643 - val_loss: 21.0903 - val_accuracy: 0.6289\n",
      "Epoch 13/100\n",
      "106/106 [==============================] - 0s 3ms/step - loss: 26.2368 - accuracy: 0.7660 - val_loss: 20.8352 - val_accuracy: 0.6293\n",
      "Epoch 14/100\n",
      "106/106 [==============================] - 0s 3ms/step - loss: 25.7139 - accuracy: 0.7654 - val_loss: 20.6300 - val_accuracy: 0.6302\n",
      "Epoch 15/100\n",
      "106/106 [==============================] - 0s 3ms/step - loss: 25.2531 - accuracy: 0.7693 - val_loss: 20.4286 - val_accuracy: 0.6302\n",
      "Epoch 16/100\n",
      "106/106 [==============================] - 1s 5ms/step - loss: 24.8849 - accuracy: 0.7693 - val_loss: 20.3462 - val_accuracy: 0.6302\n",
      "Epoch 17/100\n",
      "106/106 [==============================] - 0s 3ms/step - loss: 24.5722 - accuracy: 0.7693 - val_loss: 20.2339 - val_accuracy: 0.6311\n",
      "Epoch 18/100\n",
      "106/106 [==============================] - 0s 4ms/step - loss: 24.3280 - accuracy: 0.7702 - val_loss: 20.2342 - val_accuracy: 0.6311\n",
      "Epoch 19/100\n",
      "106/106 [==============================] - 0s 3ms/step - loss: 24.1423 - accuracy: 0.7717 - val_loss: 20.2135 - val_accuracy: 0.6311\n",
      "Epoch 20/100\n",
      "106/106 [==============================] - 0s 3ms/step - loss: 23.9864 - accuracy: 0.7714 - val_loss: 20.1142 - val_accuracy: 0.6329\n",
      "Epoch 21/100\n",
      "106/106 [==============================] - 0s 4ms/step - loss: 23.8175 - accuracy: 0.7735 - val_loss: 20.1221 - val_accuracy: 0.6324\n",
      "Epoch 22/100\n",
      "106/106 [==============================] - 0s 3ms/step - loss: 23.7134 - accuracy: 0.7726 - val_loss: 20.1448 - val_accuracy: 0.6324\n",
      "Epoch 23/100\n",
      "106/106 [==============================] - 0s 3ms/step - loss: 23.6123 - accuracy: 0.7735 - val_loss: 20.1138 - val_accuracy: 0.6329\n",
      "Epoch 24/100\n",
      "106/106 [==============================] - 0s 3ms/step - loss: 23.5357 - accuracy: 0.7735 - val_loss: 20.1034 - val_accuracy: 0.6329\n",
      "Epoch 25/100\n",
      "106/106 [==============================] - 1s 6ms/step - loss: 23.4992 - accuracy: 0.7735 - val_loss: 20.2222 - val_accuracy: 0.6329\n",
      "Epoch 26/100\n",
      "106/106 [==============================] - 1s 6ms/step - loss: 23.4357 - accuracy: 0.7735 - val_loss: 20.2190 - val_accuracy: 0.6329\n",
      "Epoch 27/100\n",
      "106/106 [==============================] - 0s 5ms/step - loss: 23.3875 - accuracy: 0.7738 - val_loss: 20.1630 - val_accuracy: 0.6329\n",
      "Epoch 28/100\n",
      "106/106 [==============================] - 0s 3ms/step - loss: 23.3615 - accuracy: 0.7735 - val_loss: 20.2432 - val_accuracy: 0.6329\n",
      "Epoch 29/100\n",
      "106/106 [==============================] - 0s 3ms/step - loss: 23.3241 - accuracy: 0.7738 - val_loss: 20.1932 - val_accuracy: 0.6329\n",
      "Epoch 30/100\n",
      "106/106 [==============================] - 0s 3ms/step - loss: 23.3282 - accuracy: 0.7738 - val_loss: 20.2176 - val_accuracy: 0.6329\n",
      "Epoch 31/100\n",
      "106/106 [==============================] - 0s 3ms/step - loss: 23.2533 - accuracy: 0.7735 - val_loss: 20.3922 - val_accuracy: 0.6329\n",
      "Epoch 32/100\n",
      "106/106 [==============================] - 0s 3ms/step - loss: 23.2704 - accuracy: 0.7732 - val_loss: 20.2226 - val_accuracy: 0.6338\n",
      "Epoch 33/100\n",
      "106/106 [==============================] - 0s 3ms/step - loss: 23.2333 - accuracy: 0.7735 - val_loss: 20.3017 - val_accuracy: 0.6329\n",
      "Epoch 34/100\n",
      "106/106 [==============================] - 0s 3ms/step - loss: 23.2182 - accuracy: 0.7738 - val_loss: 20.2894 - val_accuracy: 0.6329\n",
      "Epoch 35/100\n",
      "106/106 [==============================] - 0s 3ms/step - loss: 23.1547 - accuracy: 0.7738 - val_loss: 20.1628 - val_accuracy: 0.6347\n",
      "Epoch 36/100\n",
      "106/106 [==============================] - 0s 3ms/step - loss: 23.1684 - accuracy: 0.7738 - val_loss: 20.3341 - val_accuracy: 0.6338\n",
      "Epoch 37/100\n",
      "106/106 [==============================] - 0s 3ms/step - loss: 23.1429 - accuracy: 0.7735 - val_loss: 20.2862 - val_accuracy: 0.6329\n",
      "Epoch 38/100\n",
      "106/106 [==============================] - 0s 3ms/step - loss: 23.1466 - accuracy: 0.7735 - val_loss: 20.3548 - val_accuracy: 0.6329\n",
      "Epoch 39/100\n",
      "106/106 [==============================] - 0s 3ms/step - loss: 23.1181 - accuracy: 0.7740 - val_loss: 20.5578 - val_accuracy: 0.6329\n",
      "Epoch 40/100\n",
      "106/106 [==============================] - 0s 3ms/step - loss: 23.1043 - accuracy: 0.7740 - val_loss: 20.4177 - val_accuracy: 0.6333\n",
      "Epoch 41/100\n",
      "106/106 [==============================] - 0s 3ms/step - loss: 23.0808 - accuracy: 0.7740 - val_loss: 20.3655 - val_accuracy: 0.6333\n",
      "Epoch 42/100\n",
      "106/106 [==============================] - 0s 3ms/step - loss: 23.1086 - accuracy: 0.7738 - val_loss: 20.4963 - val_accuracy: 0.6333\n",
      "Epoch 43/100\n",
      "106/106 [==============================] - 0s 3ms/step - loss: 23.0892 - accuracy: 0.7738 - val_loss: 20.4374 - val_accuracy: 0.6329\n"
     ]
    },
    {
     "name": "stdout",
     "output_type": "stream",
     "text": [
      "Epoch 44/100\n",
      "106/106 [==============================] - 0s 3ms/step - loss: 23.0801 - accuracy: 0.7743 - val_loss: 20.2354 - val_accuracy: 0.6333\n",
      "Epoch 45/100\n",
      "106/106 [==============================] - 0s 3ms/step - loss: 23.0640 - accuracy: 0.7740 - val_loss: 20.2085 - val_accuracy: 0.6329\n",
      "Epoch 46/100\n",
      "106/106 [==============================] - 0s 3ms/step - loss: 23.0320 - accuracy: 0.7746 - val_loss: 20.6341 - val_accuracy: 0.6333\n",
      "Epoch 47/100\n",
      "106/106 [==============================] - 0s 3ms/step - loss: 23.0222 - accuracy: 0.7746 - val_loss: 20.3617 - val_accuracy: 0.6329\n",
      "Epoch 48/100\n",
      "106/106 [==============================] - 1s 5ms/step - loss: 23.0348 - accuracy: 0.7749 - val_loss: 20.3478 - val_accuracy: 0.6329\n",
      "Epoch 49/100\n",
      "106/106 [==============================] - 1s 5ms/step - loss: 23.0094 - accuracy: 0.7743 - val_loss: 20.3292 - val_accuracy: 0.6333\n",
      "Epoch 50/100\n",
      "106/106 [==============================] - 1s 5ms/step - loss: 23.0775 - accuracy: 0.7743 - val_loss: 20.1705 - val_accuracy: 0.6333\n",
      "Epoch 51/100\n",
      "106/106 [==============================] - 1s 6ms/step - loss: 23.0274 - accuracy: 0.7746 - val_loss: 20.1842 - val_accuracy: 0.6329\n",
      "Epoch 52/100\n",
      "106/106 [==============================] - 1s 5ms/step - loss: 23.0270 - accuracy: 0.7746 - val_loss: 20.4413 - val_accuracy: 0.6329\n",
      "Epoch 53/100\n",
      "106/106 [==============================] - 0s 3ms/step - loss: 22.9999 - accuracy: 0.7746 - val_loss: 20.3084 - val_accuracy: 0.6329\n",
      "Epoch 54/100\n",
      "106/106 [==============================] - 0s 3ms/step - loss: 23.0060 - accuracy: 0.7743 - val_loss: 20.4314 - val_accuracy: 0.6333\n",
      "Epoch 55/100\n",
      "106/106 [==============================] - 0s 4ms/step - loss: 23.0303 - accuracy: 0.7740 - val_loss: 20.2296 - val_accuracy: 0.6333\n",
      "Epoch 56/100\n",
      "106/106 [==============================] - 0s 4ms/step - loss: 23.0071 - accuracy: 0.7752 - val_loss: 20.4308 - val_accuracy: 0.6333\n",
      "Epoch 57/100\n",
      "106/106 [==============================] - 1s 6ms/step - loss: 23.0941 - accuracy: 0.7746 - val_loss: 20.1704 - val_accuracy: 0.6333\n",
      "Epoch 58/100\n",
      "106/106 [==============================] - 1s 6ms/step - loss: 23.0079 - accuracy: 0.7740 - val_loss: 20.4268 - val_accuracy: 0.6333\n",
      "Epoch 59/100\n",
      "106/106 [==============================] - 1s 5ms/step - loss: 23.0066 - accuracy: 0.7746 - val_loss: 20.1901 - val_accuracy: 0.6333\n",
      "Epoch 60/100\n",
      "106/106 [==============================] - 0s 3ms/step - loss: 22.9726 - accuracy: 0.7746 - val_loss: 20.5979 - val_accuracy: 0.6333\n",
      "Epoch 61/100\n",
      "106/106 [==============================] - 0s 4ms/step - loss: 22.9887 - accuracy: 0.7743 - val_loss: 20.4046 - val_accuracy: 0.6329\n",
      "Epoch 62/100\n",
      "106/106 [==============================] - 1s 6ms/step - loss: 22.9809 - accuracy: 0.7749 - val_loss: 20.5229 - val_accuracy: 0.6333\n",
      "Epoch 63/100\n",
      "106/106 [==============================] - 0s 4ms/step - loss: 23.0120 - accuracy: 0.7740 - val_loss: 20.4064 - val_accuracy: 0.6333\n",
      "Epoch 64/100\n",
      "106/106 [==============================] - 0s 4ms/step - loss: 22.9553 - accuracy: 0.7752 - val_loss: 20.0967 - val_accuracy: 0.6333\n",
      "Epoch 65/100\n",
      "106/106 [==============================] - 1s 5ms/step - loss: 22.9195 - accuracy: 0.7752 - val_loss: 20.6026 - val_accuracy: 0.6333\n",
      "Epoch 66/100\n",
      "106/106 [==============================] - 1s 6ms/step - loss: 22.9766 - accuracy: 0.7752 - val_loss: 20.3703 - val_accuracy: 0.6333\n",
      "Epoch 67/100\n",
      "106/106 [==============================] - 0s 4ms/step - loss: 22.9807 - accuracy: 0.7746 - val_loss: 20.2615 - val_accuracy: 0.6333\n",
      "Epoch 68/100\n",
      "106/106 [==============================] - 0s 3ms/step - loss: 22.9891 - accuracy: 0.7752 - val_loss: 20.4919 - val_accuracy: 0.6333\n",
      "Epoch 69/100\n",
      "106/106 [==============================] - 0s 3ms/step - loss: 22.9875 - accuracy: 0.7749 - val_loss: 20.9590 - val_accuracy: 0.6329\n",
      "Epoch 70/100\n",
      "106/106 [==============================] - 0s 3ms/step - loss: 22.9824 - accuracy: 0.7746 - val_loss: 20.2888 - val_accuracy: 0.6333\n",
      "Epoch 71/100\n",
      "106/106 [==============================] - 0s 3ms/step - loss: 22.9560 - accuracy: 0.7749 - val_loss: 20.3607 - val_accuracy: 0.6333\n",
      "Epoch 72/100\n",
      "106/106 [==============================] - 1s 5ms/step - loss: 22.9734 - accuracy: 0.7749 - val_loss: 20.6766 - val_accuracy: 0.6333\n",
      "Epoch 73/100\n",
      "106/106 [==============================] - 0s 3ms/step - loss: 22.9655 - accuracy: 0.7746 - val_loss: 20.3368 - val_accuracy: 0.6333\n",
      "Epoch 74/100\n",
      "106/106 [==============================] - 0s 3ms/step - loss: 23.0336 - accuracy: 0.7749 - val_loss: 20.3907 - val_accuracy: 0.6333\n",
      "Epoch 75/100\n",
      "106/106 [==============================] - 0s 3ms/step - loss: 22.9779 - accuracy: 0.7749 - val_loss: 20.3896 - val_accuracy: 0.6333\n",
      "Epoch 76/100\n",
      "106/106 [==============================] - 0s 3ms/step - loss: 22.9780 - accuracy: 0.7752 - val_loss: 20.3223 - val_accuracy: 0.6333\n",
      "Epoch 77/100\n",
      "106/106 [==============================] - 0s 3ms/step - loss: 22.9827 - accuracy: 0.7749 - val_loss: 20.3408 - val_accuracy: 0.6329\n",
      "Epoch 78/100\n",
      "106/106 [==============================] - 1s 6ms/step - loss: 22.9636 - accuracy: 0.7749 - val_loss: 20.3318 - val_accuracy: 0.6329\n",
      "Epoch 79/100\n",
      "106/106 [==============================] - 0s 3ms/step - loss: 22.9868 - accuracy: 0.7746 - val_loss: 20.2354 - val_accuracy: 0.6329\n",
      "Epoch 80/100\n",
      "106/106 [==============================] - 0s 4ms/step - loss: 22.9866 - accuracy: 0.7749 - val_loss: 20.5635 - val_accuracy: 0.6329\n",
      "Epoch 81/100\n",
      "106/106 [==============================] - 1s 5ms/step - loss: 22.9592 - accuracy: 0.7749 - val_loss: 20.2450 - val_accuracy: 0.6329\n",
      "Epoch 82/100\n",
      "106/106 [==============================] - 0s 3ms/step - loss: 22.9690 - accuracy: 0.7749 - val_loss: 20.5565 - val_accuracy: 0.6329\n",
      "Epoch 83/100\n",
      "106/106 [==============================] - 0s 3ms/step - loss: 22.9409 - accuracy: 0.7752 - val_loss: 20.3020 - val_accuracy: 0.6333\n",
      "Epoch 84/100\n",
      "106/106 [==============================] - 0s 3ms/step - loss: 22.9532 - accuracy: 0.7749 - val_loss: 20.3803 - val_accuracy: 0.6329\n",
      "Epoch 85/100\n",
      "106/106 [==============================] - 0s 3ms/step - loss: 22.9650 - accuracy: 0.7749 - val_loss: 20.5137 - val_accuracy: 0.6329\n",
      "Epoch 86/100\n",
      "106/106 [==============================] - 0s 3ms/step - loss: 22.9748 - accuracy: 0.7746 - val_loss: 20.3793 - val_accuracy: 0.6333\n",
      "Epoch 87/100\n",
      "106/106 [==============================] - 0s 3ms/step - loss: 22.9837 - accuracy: 0.7749 - val_loss: 20.5666 - val_accuracy: 0.6329\n",
      "Epoch 88/100\n",
      "106/106 [==============================] - 0s 3ms/step - loss: 22.9152 - accuracy: 0.7749 - val_loss: 20.4490 - val_accuracy: 0.6333\n",
      "Epoch 89/100\n",
      "106/106 [==============================] - 0s 3ms/step - loss: 22.9284 - accuracy: 0.7749 - val_loss: 20.4703 - val_accuracy: 0.6329\n",
      "Epoch 90/100\n",
      "106/106 [==============================] - 0s 3ms/step - loss: 22.9531 - accuracy: 0.7752 - val_loss: 20.3579 - val_accuracy: 0.6329\n",
      "Epoch 91/100\n",
      "106/106 [==============================] - 0s 3ms/step - loss: 22.9666 - accuracy: 0.7746 - val_loss: 20.4602 - val_accuracy: 0.6329\n",
      "Epoch 92/100\n",
      "106/106 [==============================] - 1s 7ms/step - loss: 22.9941 - accuracy: 0.7752 - val_loss: 20.4278 - val_accuracy: 0.6329\n",
      "Epoch 93/100\n",
      "106/106 [==============================] - 0s 3ms/step - loss: 22.9396 - accuracy: 0.7749 - val_loss: 20.2612 - val_accuracy: 0.6329\n",
      "Epoch 94/100\n",
      "106/106 [==============================] - 0s 3ms/step - loss: 22.9713 - accuracy: 0.7749 - val_loss: 20.5064 - val_accuracy: 0.6329\n",
      "Epoch 95/100\n",
      "106/106 [==============================] - 0s 3ms/step - loss: 22.9203 - accuracy: 0.7749 - val_loss: 20.4988 - val_accuracy: 0.6329\n",
      "Epoch 96/100\n",
      "106/106 [==============================] - 0s 3ms/step - loss: 22.9457 - accuracy: 0.7749 - val_loss: 20.1361 - val_accuracy: 0.6333\n",
      "Epoch 97/100\n",
      "106/106 [==============================] - 0s 3ms/step - loss: 22.9877 - accuracy: 0.7749 - val_loss: 20.4723 - val_accuracy: 0.6329\n",
      "Epoch 98/100\n",
      "106/106 [==============================] - 0s 4ms/step - loss: 22.9388 - accuracy: 0.7746 - val_loss: 20.3035 - val_accuracy: 0.6333\n",
      "Epoch 99/100\n",
      "106/106 [==============================] - 0s 4ms/step - loss: 22.9146 - accuracy: 0.7749 - val_loss: 20.3200 - val_accuracy: 0.6329\n",
      "Epoch 100/100\n"
     ]
    },
    {
     "name": "stdout",
     "output_type": "stream",
     "text": [
      "106/106 [==============================] - 0s 4ms/step - loss: 22.9310 - accuracy: 0.7749 - val_loss: 20.4805 - val_accuracy: 0.6329\n"
     ]
    }
   ],
   "source": [
    "history = autoencoder.fit(X_train_noisy, X_train_normal_train, epochs=nb_epoch, batch_size=batch_size, shuffle=True,\n",
    "                          validation_data=(X_test_noisy, X_test), verbose=1, callbacks=[checkpointer, tensorboard]).history"
   ]
  },
  {
   "cell_type": "code",
   "execution_count": 32,
   "id": "f046b60d",
   "metadata": {},
   "outputs": [
    {
     "data": {
      "image/png": "[encoded data removed]",
      "text/plain": [
       "<Figure size 640x480 with 1 Axes>"
      ]
     },
     "metadata": {},
     "output_type": "display_data"
    }
   ],
   "source": [
    "# Plot the training loss and validation loss\n",
    "plt.plot(history['loss'], label='Training Loss')\n",
    "plt.plot(history['val_loss'], label='Validation Loss')\n",
    "plt.title('Training and Validation Loss')\n",
    "plt.xlabel('Epoch')\n",
    "plt.ylabel('Loss')\n",
    "plt.legend()\n",
    "plt.show()"
   ]
  },
  {
   "cell_type": "code",
   "execution_count": null,
   "id": "fe0c4b4d",
   "metadata": {},
   "outputs": [],
   "source": []
  }
 ],
 "metadata": {
  "kernelspec": {
   "display_name": "Python 3 (ipykernel)",
   "language": "python",
   "name": "python3"
  },
  "language_info": {
   "codemirror_mode": {
    "name": "ipython",
    "version": 3
   },
   "file_extension": ".py",
   "mimetype": "text/x-python",
   "name": "python",
   "nbconvert_exporter": "python",
   "pygments_lexer": "ipython3",
   "version": "3.7.16"
  }
 },
 "nbformat": 4,
 "nbformat_minor": 5
}
